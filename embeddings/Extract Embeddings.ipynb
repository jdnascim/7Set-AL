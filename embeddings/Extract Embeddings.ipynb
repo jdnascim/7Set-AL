{
 "cells": [
  {
   "cell_type": "markdown",
   "id": "685ca98a-b4ad-4837-9cf4-d2007fd136de",
   "metadata": {},
   "source": [
    "This notebook extract Image and Text Embeddings for further be used in cluserization methods\n",
    "\n",
    "Embedding Extracted:\n",
    "- BERT (Trained on Social Media)\n",
    "- MobileNetV3 (Trained on ImageNet)\n",
    "- MobileNetV3 + Bert Concat\n",
    "- CLIP (Concat)\n",
    "- CLIP (SUM)\n"
   ]
  },
  {
   "cell_type": "markdown",
   "id": "2e70ad80-3801-448b-adb4-f960be294b04",
   "metadata": {},
   "source": [
    "# Extracting Bert Embeddings"
   ]
  },
  {
   "cell_type": "code",
   "execution_count": 3,
   "id": "39334311-f3c0-4d64-ab94-9cfbd4383728",
   "metadata": {},
   "outputs": [],
   "source": [
    "# load data\n",
    "import pandas as pd\n",
    "import numpy as np\n",
    "tweet_data = pd.read_pickle('../annotations/5k-data.pkl')"
   ]
  },
  {
   "cell_type": "code",
   "execution_count": 5,
   "id": "192158d5-93e3-478f-81c1-d8d48bdeb790",
   "metadata": {},
   "outputs": [],
   "source": [
    "# preprocess\n",
    "import preprocess\n",
    "clean_text = [] \n",
    "\n",
    "for index, row in tweet_data.iterrows():\n",
    "    clean_text.append(preprocess.pre_process(row['text'], keep_hashtag = True, keep_special_symbols = True))\n",
    "\n",
    "tweet_data['processed_tweet'] = clean_text"
   ]
  },
  {
   "cell_type": "code",
   "execution_count": null,
   "id": "92d27588-652e-4c5e-ba8f-c87e89029653",
   "metadata": {
    "scrolled": true,
    "tags": []
   },
   "outputs": [],
   "source": [
    "# Create Embeddings\n",
    "import os\n",
    "os.environ[\"CUDA_DEVICE_ORDER\"]=\"PCI_BUS_ID\"\n",
    "os.environ[\"CUDA_VISIBLE_DEVICES\"]=\"1\"\n",
    "from sentence_transformers import SentenceTransformer, util\n",
    "\n",
    "# Get pretrained model\n",
    "pretrain_model_path = 'cardiffnlp/twitter-roberta-base'\n",
    "model = SentenceTransformer(pretrain_model_path, cache_folder='.')\n",
    "\n",
    "# Enccode text\n",
    "tweets_emds = model.encode(tweet_data['processed_tweet'].tolist())"
   ]
  },
  {
   "cell_type": "code",
   "execution_count": 23,
   "id": "eb4bf636-2dca-4215-8fe8-c532c320ce77",
   "metadata": {},
   "outputs": [
    {
     "data": {
      "text/plain": [
       "(5000, 768)"
      ]
     },
     "execution_count": 23,
     "metadata": {},
     "output_type": "execute_result"
    }
   ],
   "source": [
    "tweets_emds.shape"
   ]
  },
  {
   "cell_type": "code",
   "execution_count": 24,
   "id": "61f39560-97c2-4cb2-995b-68282e324000",
   "metadata": {},
   "outputs": [],
   "source": [
    "tweet_data['text_embeddings'] = tweets_emds.tolist()\n",
    "tweet_data.to_pickle('tweet_data_text_emb.pkl')"
   ]
  },
  {
   "cell_type": "markdown",
   "id": "3057cb38-bbbb-408d-888a-a017af75dc16",
   "metadata": {},
   "source": [
    "# Image embeddings with MobileNetV3"
   ]
  },
  {
   "cell_type": "code",
   "execution_count": 12,
   "id": "66eec913-61d6-42e0-940e-9489e2b29e21",
   "metadata": {},
   "outputs": [],
   "source": [
    "from forensic_lib.forensicsEvidences.imgEv.CNN import  load_default_image_model_or_preprocess, get_image_embedding\n",
    "from forensic_lib.utils.img_utils import load_image\n",
    "from PIL import ImageFile, Image\n",
    "ImageFile.LOAD_TRUNCATED_IMAGES = True\n",
    "import numpy as np"
   ]
  },
  {
   "cell_type": "code",
   "execution_count": 13,
   "id": "1ae59457-a36f-408f-808a-70e73158d1ad",
   "metadata": {},
   "outputs": [
    {
     "data": {
      "text/html": [
       "<div>\n",
       "<style scoped>\n",
       "    .dataframe tbody tr th:only-of-type {\n",
       "        vertical-align: middle;\n",
       "    }\n",
       "\n",
       "    .dataframe tbody tr th {\n",
       "        vertical-align: top;\n",
       "    }\n",
       "\n",
       "    .dataframe thead th {\n",
       "        text-align: right;\n",
       "    }\n",
       "</style>\n",
       "<table border=\"1\" class=\"dataframe\">\n",
       "  <thead>\n",
       "    <tr style=\"text-align: right;\">\n",
       "      <th></th>\n",
       "      <th>tweet_id</th>\n",
       "      <th>work_time</th>\n",
       "      <th>orig_path</th>\n",
       "      <th>text</th>\n",
       "      <th>img</th>\n",
       "      <th>processed_tweet</th>\n",
       "      <th>text_embeddings</th>\n",
       "    </tr>\n",
       "  </thead>\n",
       "  <tbody>\n",
       "    <tr>\n",
       "      <th>0</th>\n",
       "      <td>1437188092683751424</td>\n",
       "      <td>23.626190</td>\n",
       "      <td>social-data/media_12/pt/1437188092683751429/im...</td>\n",
       "      <td>Simone ja esta gravando um novo clipe para “En...</td>\n",
       "      <td>annotated-data/1437188092683751429.jpg</td>\n",
       "      <td>Simone ja esta gravando um novo clipe para “ E...</td>\n",
       "      <td>[0.1138482466340065, 0.16404683887958527, 0.07...</td>\n",
       "    </tr>\n",
       "    <tr>\n",
       "      <th>1</th>\n",
       "      <td>1435028621362614272</td>\n",
       "      <td>23.626190</td>\n",
       "      <td>social-data/media_07/pt/1435028621362614277/im...</td>\n",
       "      <td>✅ Dominado Vila Real, Vila Pouca De Aguiar, Pe...</td>\n",
       "      <td>annotated-data/1435028621362614277.jpg</td>\n",
       "      <td>Dominado Vila Real, Vila Pouca De Aguiar, Pens...</td>\n",
       "      <td>[0.00721816485747695, 0.14304794371128082, 0.0...</td>\n",
       "    </tr>\n",
       "    <tr>\n",
       "      <th>2</th>\n",
       "      <td>1435346675674013696</td>\n",
       "      <td>23.626190</td>\n",
       "      <td>social-data/media_07/pt/1435346675674013701/im...</td>\n",
       "      <td>EVANGELINE LILLY EU TE AMO EU TE AMOOOO  https...</td>\n",
       "      <td>annotated-data/1435346675674013701.jpg</td>\n",
       "      <td>EVANGELINE LILLY EU TE AMO EU TE AMOOOO</td>\n",
       "      <td>[0.07994440197944641, 0.04783586412668228, 0.0...</td>\n",
       "    </tr>\n",
       "    <tr>\n",
       "      <th>3</th>\n",
       "      <td>1437130100718383104</td>\n",
       "      <td>23.626190</td>\n",
       "      <td>social-data/media_12/pt/1437130100718383105/im...</td>\n",
       "      <td>Aqui de boa na rede, enquanto o MBL passa verg...</td>\n",
       "      <td>annotated-data/1437130100718383105.jpg</td>\n",
       "      <td>Aqui de boa na rede, enquanto o MBL passa verg...</td>\n",
       "      <td>[0.07642020285129547, 0.1480882316827774, 0.04...</td>\n",
       "    </tr>\n",
       "    <tr>\n",
       "      <th>4</th>\n",
       "      <td>1435211167924957184</td>\n",
       "      <td>21.878664</td>\n",
       "      <td>social-data/media_07/en/1435211167924957190/im...</td>\n",
       "      <td>@Khayizasoze I was sent this picture,sengiyasa...</td>\n",
       "      <td>annotated-data/1435211167924957190.jpg</td>\n",
       "      <td>I was sent this picture,sengiyasaba</td>\n",
       "      <td>[0.14479757845401764, 0.04978952184319496, -0....</td>\n",
       "    </tr>\n",
       "    <tr>\n",
       "      <th>...</th>\n",
       "      <td>...</td>\n",
       "      <td>...</td>\n",
       "      <td>...</td>\n",
       "      <td>...</td>\n",
       "      <td>...</td>\n",
       "      <td>...</td>\n",
       "      <td>...</td>\n",
       "    </tr>\n",
       "    <tr>\n",
       "      <th>4995</th>\n",
       "      <td>1436688481242255360</td>\n",
       "      <td>15.889647</td>\n",
       "      <td>social-data/media_8_11/pt/1436688481242255361/...</td>\n",
       "      <td>@Mano_Cebola1 ELE D NOVO SIIIIIM! E AINDA TEM ...</td>\n",
       "      <td>annotated-data/1436688481242255361.jpg</td>\n",
       "      <td>ELE D NOVO SIIIIIM! E AINDA TEM MAIS FIDDLES F...</td>\n",
       "      <td>[0.07685352116823196, -0.006391509436070919, 0...</td>\n",
       "    </tr>\n",
       "    <tr>\n",
       "      <th>4996</th>\n",
       "      <td>1436071900803915776</td>\n",
       "      <td>20.498567</td>\n",
       "      <td>social-data/media_8_11/pt/1436071900803915776/...</td>\n",
       "      <td>Pois, é! Máscaras caindo… #BolsonaroArregou e ...</td>\n",
       "      <td>annotated-data/1436071900803915776.jpg</td>\n",
       "      <td>Pois, é! Máscaras caindo… Bolsonaro Arregou e ...</td>\n",
       "      <td>[0.03707044944167137, 0.12567757070064545, 0.0...</td>\n",
       "    </tr>\n",
       "    <tr>\n",
       "      <th>4997</th>\n",
       "      <td>1436067261094236160</td>\n",
       "      <td>20.498567</td>\n",
       "      <td>social-data/media_8_11/pt/1436067261094236169/...</td>\n",
       "      <td>Um móvel novo é sempre bem vindo para renovar ...</td>\n",
       "      <td>annotated-data/1436067261094236169.jpg</td>\n",
       "      <td>Um móvel novo é sempre bem vindo para renovar ...</td>\n",
       "      <td>[0.06778176873922348, 0.14513982832431793, 0.0...</td>\n",
       "    </tr>\n",
       "    <tr>\n",
       "      <th>4998</th>\n",
       "      <td>1435440766868987904</td>\n",
       "      <td>20.498567</td>\n",
       "      <td>social-data/media_8_11/pt/1435440766868987907/...</td>\n",
       "      <td>Descobri que zoar Bolsominions é bom pro engaj...</td>\n",
       "      <td>annotated-data/1435440766868987907.jpg</td>\n",
       "      <td>Descobri que zoar Bolsominions é bom pro engaj...</td>\n",
       "      <td>[0.03715939074754715, 0.1534595936536789, 0.02...</td>\n",
       "    </tr>\n",
       "    <tr>\n",
       "      <th>4999</th>\n",
       "      <td>1437256230867816448</td>\n",
       "      <td>20.498567</td>\n",
       "      <td>social-data/media_12/pt/1437256230867816450/im...</td>\n",
       "      <td>De tanto andar de mãos dadas com o PT, o MBL c...</td>\n",
       "      <td>annotated-data/1437256230867816450.jpg</td>\n",
       "      <td>De tanto andar de mãos dadas com o PT, o MBL c...</td>\n",
       "      <td>[0.1129765436053276, 0.15828993916511536, 0.12...</td>\n",
       "    </tr>\n",
       "  </tbody>\n",
       "</table>\n",
       "<p>5000 rows × 7 columns</p>\n",
       "</div>"
      ],
      "text/plain": [
       "                 tweet_id  work_time  \\\n",
       "0     1437188092683751424  23.626190   \n",
       "1     1435028621362614272  23.626190   \n",
       "2     1435346675674013696  23.626190   \n",
       "3     1437130100718383104  23.626190   \n",
       "4     1435211167924957184  21.878664   \n",
       "...                   ...        ...   \n",
       "4995  1436688481242255360  15.889647   \n",
       "4996  1436071900803915776  20.498567   \n",
       "4997  1436067261094236160  20.498567   \n",
       "4998  1435440766868987904  20.498567   \n",
       "4999  1437256230867816448  20.498567   \n",
       "\n",
       "                                              orig_path  \\\n",
       "0     social-data/media_12/pt/1437188092683751429/im...   \n",
       "1     social-data/media_07/pt/1435028621362614277/im...   \n",
       "2     social-data/media_07/pt/1435346675674013701/im...   \n",
       "3     social-data/media_12/pt/1437130100718383105/im...   \n",
       "4     social-data/media_07/en/1435211167924957190/im...   \n",
       "...                                                 ...   \n",
       "4995  social-data/media_8_11/pt/1436688481242255361/...   \n",
       "4996  social-data/media_8_11/pt/1436071900803915776/...   \n",
       "4997  social-data/media_8_11/pt/1436067261094236169/...   \n",
       "4998  social-data/media_8_11/pt/1435440766868987907/...   \n",
       "4999  social-data/media_12/pt/1437256230867816450/im...   \n",
       "\n",
       "                                                   text  \\\n",
       "0     Simone ja esta gravando um novo clipe para “En...   \n",
       "1     ✅ Dominado Vila Real, Vila Pouca De Aguiar, Pe...   \n",
       "2     EVANGELINE LILLY EU TE AMO EU TE AMOOOO  https...   \n",
       "3     Aqui de boa na rede, enquanto o MBL passa verg...   \n",
       "4     @Khayizasoze I was sent this picture,sengiyasa...   \n",
       "...                                                 ...   \n",
       "4995  @Mano_Cebola1 ELE D NOVO SIIIIIM! E AINDA TEM ...   \n",
       "4996  Pois, é! Máscaras caindo… #BolsonaroArregou e ...   \n",
       "4997  Um móvel novo é sempre bem vindo para renovar ...   \n",
       "4998  Descobri que zoar Bolsominions é bom pro engaj...   \n",
       "4999  De tanto andar de mãos dadas com o PT, o MBL c...   \n",
       "\n",
       "                                         img  \\\n",
       "0     annotated-data/1437188092683751429.jpg   \n",
       "1     annotated-data/1435028621362614277.jpg   \n",
       "2     annotated-data/1435346675674013701.jpg   \n",
       "3     annotated-data/1437130100718383105.jpg   \n",
       "4     annotated-data/1435211167924957190.jpg   \n",
       "...                                      ...   \n",
       "4995  annotated-data/1436688481242255361.jpg   \n",
       "4996  annotated-data/1436071900803915776.jpg   \n",
       "4997  annotated-data/1436067261094236169.jpg   \n",
       "4998  annotated-data/1435440766868987907.jpg   \n",
       "4999  annotated-data/1437256230867816450.jpg   \n",
       "\n",
       "                                        processed_tweet  \\\n",
       "0     Simone ja esta gravando um novo clipe para “ E...   \n",
       "1     Dominado Vila Real, Vila Pouca De Aguiar, Pens...   \n",
       "2               EVANGELINE LILLY EU TE AMO EU TE AMOOOO   \n",
       "3     Aqui de boa na rede, enquanto o MBL passa verg...   \n",
       "4                   I was sent this picture,sengiyasaba   \n",
       "...                                                 ...   \n",
       "4995  ELE D NOVO SIIIIIM! E AINDA TEM MAIS FIDDLES F...   \n",
       "4996  Pois, é! Máscaras caindo… Bolsonaro Arregou e ...   \n",
       "4997  Um móvel novo é sempre bem vindo para renovar ...   \n",
       "4998  Descobri que zoar Bolsominions é bom pro engaj...   \n",
       "4999  De tanto andar de mãos dadas com o PT, o MBL c...   \n",
       "\n",
       "                                        text_embeddings  \n",
       "0     [0.1138482466340065, 0.16404683887958527, 0.07...  \n",
       "1     [0.00721816485747695, 0.14304794371128082, 0.0...  \n",
       "2     [0.07994440197944641, 0.04783586412668228, 0.0...  \n",
       "3     [0.07642020285129547, 0.1480882316827774, 0.04...  \n",
       "4     [0.14479757845401764, 0.04978952184319496, -0....  \n",
       "...                                                 ...  \n",
       "4995  [0.07685352116823196, -0.006391509436070919, 0...  \n",
       "4996  [0.03707044944167137, 0.12567757070064545, 0.0...  \n",
       "4997  [0.06778176873922348, 0.14513982832431793, 0.0...  \n",
       "4998  [0.03715939074754715, 0.1534595936536789, 0.02...  \n",
       "4999  [0.1129765436053276, 0.15828993916511536, 0.12...  \n",
       "\n",
       "[5000 rows x 7 columns]"
      ]
     },
     "execution_count": 13,
     "metadata": {},
     "output_type": "execute_result"
    }
   ],
   "source": [
    "tweet_data"
   ]
  },
  {
   "cell_type": "code",
   "execution_count": 28,
   "id": "17c195f1-02c6-4263-9958-f0d8bd5bad5e",
   "metadata": {},
   "outputs": [
    {
     "name": "stdout",
     "output_type": "stream",
     "text": [
      "Model on GPU              \n"
     ]
    },
    {
     "name": "stderr",
     "output_type": "stream",
     "text": [
      "  0%|                                                                                                                                  | 0/79 [00:00<?, ?it/s]"
     ]
    },
    {
     "name": "stdout",
     "output_type": "stream",
     "text": [
      "huggingface/tokenizers: The current process just got forked, after parallelism has already been used. Disabling parallelism to avoid deadlocks...\n",
      "To disable this warning, you can either:\n",
      "\t- Avoid using `tokenizers` before the fork if possible\n",
      "\t- Explicitly set the environment variable TOKENIZERS_PARALLELISM=(true | false)\n",
      "huggingface/tokenizers: The current process just got forked, after parallelism has already been used. Disabling parallelism to avoid deadlocks...\n",
      "To disable this warning, you can either:\n",
      "\t- Avoid using `tokenizers` before the fork if possible\n",
      "\t- Explicitly set the environment variable TOKENIZERS_PARALLELISM=(true | false)\n",
      "huggingface/tokenizers: The current process just got forked, after parallelism has already been used. Disabling parallelism to avoid deadlocks...\n",
      "To disable this warning, you can either:\n",
      "\t- Avoid using `tokenizers` before the fork if possible\n",
      "\t- Explicitly set the environment variable TOKENIZERS_PARALLELISM=(true | false)\n",
      "huggingface/tokenizers: The current process just got forked, after parallelism has already been used. Disabling parallelism to avoid deadlocks...\n",
      "To disable this warning, you can either:\n",
      "\t- Avoid using `tokenizers` before the fork if possible\n",
      "\t- Explicitly set the environment variable TOKENIZERS_PARALLELISM=(true | false)\n"
     ]
    },
    {
     "name": "stderr",
     "output_type": "stream",
     "text": [
      " 99%|███████████████████████████████████████████████████████████████████████████████████████████████████████████████████████▍ | 78/79 [00:18<00:00,  4.47it/s]"
     ]
    },
    {
     "name": "stdout",
     "output_type": "stream",
     "text": [
      "\t- Explicitly set the environment variable TOKENIZERS_PARALLELISM=(true | false)\n"
     ]
    },
    {
     "name": "stderr",
     "output_type": "stream",
     "text": [
      "100%|█████████████████████████████████████████████████████████████████████████████████████████████████████████████████████████| 79/79 [00:18<00:00,  4.19it/s]"
     ]
    },
    {
     "name": "stdout",
     "output_type": "stream",
     "text": [
      "Model on CPU             \n"
     ]
    },
    {
     "name": "stderr",
     "output_type": "stream",
     "text": [
      "\n"
     ]
    }
   ],
   "source": [
    "image_paths = [f'../annotations/{m}' for m in tweet_data['img'].values]\n",
    "image_ids = [ i  for i in tweet_data.index]\n",
    "model, m_transform = load_default_image_model_or_preprocess()\n",
    "embeddings, embeddings_ids  = get_image_embedding(image_paths, image_ids, model, m_transform, normalize=True, gpu_id=0, use_gpu=True)"
   ]
  },
  {
   "cell_type": "code",
   "execution_count": 30,
   "id": "7a995c0e-673a-41fc-abcc-e92d42e16df1",
   "metadata": {},
   "outputs": [],
   "source": [
    "tweet_data['imgs_embeddings'] = embeddings"
   ]
  },
  {
   "cell_type": "code",
   "execution_count": 32,
   "id": "612db069-0a1b-4114-9fda-0e5bc4bf33b4",
   "metadata": {},
   "outputs": [],
   "source": [
    "tweet_data.to_pickle('tweet_data_img_emb.pkl')"
   ]
  },
  {
   "cell_type": "markdown",
   "id": "1928d3b6-472e-45ee-8118-003471f2b313",
   "metadata": {},
   "source": [
    "# Getting CLIP embeddings"
   ]
  },
  {
   "cell_type": "markdown",
   "id": "c8bcce55-3afa-4ce1-823a-c48a9ed73aa1",
   "metadata": {},
   "source": [
    "Clip multilingual\n",
    "@inproceedings{reimers-2019-sentence-bert,\n",
    "    title = \"Sentence-BERT: Sentence Embeddings using Siamese BERT-Networks\",\n",
    "    author = \"Reimers, Nils and Gurevych, Iryna\",\n",
    "    booktitle = \"Proceedings of the 2019 Conference on Empirical Methods in Natural Language Processing\",\n",
    "    month = \"11\",\n",
    "    year = \"2019\",\n",
    "    publisher = \"Association for Computational Linguistics\",\n",
    "    url = \"http://arxiv.org/abs/1908.10084\",\n",
    "}"
   ]
  },
  {
   "cell_type": "markdown",
   "id": "6606d23f-e946-4e9c-8d1c-0b3d7bb04099",
   "metadata": {
    "tags": []
   },
   "source": [
    "## Image Clip Embeddings"
   ]
  },
  {
   "cell_type": "code",
   "execution_count": 44,
   "id": "79e44c75-7f01-44f4-98a7-58aa18f9997c",
   "metadata": {},
   "outputs": [],
   "source": [
    "import pandas as pd\n",
    "import numpy as np\n",
    "\n",
    "# read data\n",
    "tweet_data = pd.read_pickle('tweet_data_img_emb.pkl')"
   ]
  },
  {
   "cell_type": "code",
   "execution_count": 89,
   "id": "d5f8bf79-385c-4e1c-b8d8-15784c1127a2",
   "metadata": {},
   "outputs": [],
   "source": [
    "import torch\n",
    "from torch.utils.data import DataLoader\n",
    "from torch.utils.data import Dataset\n",
    "import clip\n",
    "import os\n",
    "os.environ[\"CUDA_DEVICE_ORDER\"]=\"PCI_BUS_ID\"\n",
    "os.environ[\"CUDA_VISIBLE_DEVICES\"]=\"1\"\n",
    "from sentence_transformers import SentenceTransformer, util\n",
    "from forensic_lib.forensicsEvidences.imgEv.CNN import  get_image_embedding, ImageDataset, normalize_vector\n",
    "from forensic_lib.utils.img_utils import load_image\n",
    "from tqdm import tqdm"
   ]
  },
  {
   "cell_type": "code",
   "execution_count": 86,
   "id": "fe976f20-2b62-4ea4-8f40-38daa7582bc1",
   "metadata": {},
   "outputs": [],
   "source": [
    "# load model and image preprocessing\n",
    "device = \"cuda:0\" if torch.cuda.is_available() else \"cpu\"\n",
    "clip_model, preprocess = clip.load(\"ViT-B/32\", device=device, jit=False)\n"
   ]
  },
  {
   "cell_type": "code",
   "execution_count": 90,
   "id": "7439999a-1d08-4299-b529-c946ebbe3730",
   "metadata": {},
   "outputs": [],
   "source": [
    "\"\"\"\n",
    "Define image embedings extraction for clip\n",
    "\"\"\"\n",
    "def get_clip_image_embedding(\n",
    "                        image_files,\n",
    "                        image_ids,\n",
    "                        clip_model,\n",
    "                        transform,\n",
    "                        normalize = False, \n",
    "                        **kwargs\n",
    "):\n",
    "    \n",
    "    use_gpu = kwargs.get('use_gpu') if kwargs.get('use_gpu') else False\n",
    "    \n",
    "    if torch.cuda.is_available() and use_gpu: \n",
    "        dev = \"cuda:\"+ str(kwargs.get('gpu_id')) if kwargs.get('gpu_id') else 'cuda:0'\n",
    "    else: \n",
    "        dev = \"cpu\" \n",
    "    \n",
    "    # No need to create overhead using batch\n",
    "    if len(image_files) == 1:\n",
    "        if check_ext(image_files[0]):\n",
    "            img = transform(load_image(image_files[0])).unsqueeze(0) \n",
    "            \n",
    "            with torch.no_grad():\n",
    "                embedded_vectors = clip_model.encode_image(img).squeeze().numpy()\n",
    "                \n",
    "            if normalize:\n",
    "                embedded_vectors = normalize_vector(embedded_vectors)\n",
    "            return [list(embedded_vectors)], image_ids\n",
    "    \n",
    "    # Batch of images\n",
    "    else:\n",
    "        embedded_vectors = []\n",
    "        ids = []\n",
    "        img_dataset = ImageDataset(image_files, image_ids, transform)\n",
    "        \n",
    "        if use_gpu:    \n",
    "            print(\"\\rLoading Model to Device\\r\",end=\"\")\n",
    "            clip_model = clip_model.to(dev)\n",
    "            print(\"Model on GPU              \",flush=True)\n",
    "\n",
    "        batch_size = kwargs.get('batch_size') if kwargs.get('batch_size') else 64\n",
    "        num_workers = kwargs.get('num_workers') if kwargs.get('num_workers') else 4\n",
    "        img_dataloader = DataLoader(img_dataset, batch_size=batch_size, shuffle=False, num_workers=num_workers)\n",
    "        \n",
    "        for imgs, ids_batch in tqdm(img_dataloader, total=np.ceil(len(img_dataset) / batch_size).astype(int)):\n",
    "            imgs = imgs.to(dev)\n",
    "            \n",
    "            with torch.no_grad():\n",
    "                output = clip_model.encode_image(imgs)\n",
    "                output = output.squeeze().cpu().numpy()\n",
    "                \n",
    "            if normalize:\n",
    "                output = normalize_vector(output)\n",
    "                \n",
    "            embedded_vectors += output.tolist()\n",
    "            ids += [int(_id) for _id in ids_batch]\n",
    "            \n",
    "        if use_gpu:    \n",
    "            print(\"\\rRemove Model from Device\\r\",end=\"\")\n",
    "            clip_model = clip_model.to('cpu')\n",
    "            print(\"Model on CPU             \",flush=True)\n",
    "            \n",
    "        return embedded_vectors, ids   \n",
    "\n"
   ]
  },
  {
   "cell_type": "code",
   "execution_count": 91,
   "id": "0475082f-af5a-4784-8b7f-e62331f6a49a",
   "metadata": {},
   "outputs": [
    {
     "name": "stdout",
     "output_type": "stream",
     "text": [
      "Model on GPU              \n"
     ]
    },
    {
     "name": "stderr",
     "output_type": "stream",
     "text": [
      "  0%|                                                                                                                                  | 0/79 [00:00<?, ?it/s]"
     ]
    },
    {
     "name": "stdout",
     "output_type": "stream",
     "text": [
      "huggingface/tokenizers: The current process just got forked, after parallelism has already been used. Disabling parallelism to avoid deadlocks...\n",
      "To disable this warning, you can either:\n",
      "\t- Avoid using `tokenizers` before the fork if possible\n",
      "\t- Explicitly set the environment variable TOKENIZERS_PARALLELISM=(true | false)\n",
      "huggingface/tokenizers: The current process just got forked, after parallelism has already been used. Disabling parallelism to avoid deadlocks...\n",
      "To disable this warning, you can either:\n",
      "\t- Avoid using `tokenizers` before the fork if possible\n",
      "\t- Explicitly set the environment variable TOKENIZERS_PARALLELISM=(true | false)\n",
      "huggingface/tokenizers: The current process just got forked, after parallelism has already been used. Disabling parallelism to avoid deadlocks...\n",
      "To disable this warning, you can either:\n",
      "\t- Avoid using `tokenizers` before the fork if possible\n",
      "\t- Explicitly set the environment variable TOKENIZERS_PARALLELISM=(true | false)\n",
      "huggingface/tokenizers: The current process just got forked, after parallelism has already been used. Disabling parallelism to avoid deadlocks...\n",
      "To disable this warning, you can either:\n",
      "\t- Avoid using `tokenizers` before the fork if possible\n",
      "\t- Explicitly set the environment variable TOKENIZERS_PARALLELISM=(true | false)\n"
     ]
    },
    {
     "name": "stderr",
     "output_type": "stream",
     "text": [
      " 99%|███████████████████████████████████████████████████████████████████████████████████████████████████████████████████████▍ | 78/79 [00:23<00:00,  3.37it/s]"
     ]
    },
    {
     "name": "stdout",
     "output_type": "stream",
     "text": [
      "\t- Explicitly set the environment variable TOKENIZERS_PARALLELISM=(true | false)\n"
     ]
    },
    {
     "name": "stderr",
     "output_type": "stream",
     "text": [
      "100%|█████████████████████████████████████████████████████████████████████████████████████████████████████████████████████████| 79/79 [00:23<00:00,  3.39it/s]\n"
     ]
    },
    {
     "name": "stdout",
     "output_type": "stream",
     "text": [
      "Model on CPU             \n"
     ]
    }
   ],
   "source": [
    "image_paths = [f'../annotations/{m}' for m in tweet_data['img'].values]\n",
    "image_ids = [ i  for i in tweet_data.index]\n",
    "\n",
    "img_clip_embeddings, img_clip_embeddings_ids  = get_clip_image_embedding(image_paths, image_ids, clip_model, preprocess, normalize=True, gpu_id=0, use_gpu=True)"
   ]
  },
  {
   "cell_type": "code",
   "execution_count": 92,
   "id": "c675c5fa-ba46-4832-86a2-3dcf573c8733",
   "metadata": {},
   "outputs": [],
   "source": [
    "tweet_data['clip_imgs_embeddings'] = img_clip_embeddings"
   ]
  },
  {
   "cell_type": "code",
   "execution_count": 73,
   "id": "eeafdafc-8614-408b-9c8c-5c3d4b807feb",
   "metadata": {},
   "outputs": [],
   "source": [
    "tweet_data.to_pickle('tweet_data_clip_img_emb.pkl')"
   ]
  },
  {
   "cell_type": "markdown",
   "id": "a0340af6-568e-4d1d-9e3b-9ed96c7f6b8f",
   "metadata": {},
   "source": [
    "## Text Clip embeddings"
   ]
  },
  {
   "cell_type": "code",
   "execution_count": 77,
   "id": "297d7719-482a-4848-923c-b6eba14adb6a",
   "metadata": {},
   "outputs": [],
   "source": [
    "text_model = SentenceTransformer('sentence-transformers/clip-ViT-B-32-multilingual-v1',cache_folder='.', device='cuda:0')"
   ]
  },
  {
   "cell_type": "code",
   "execution_count": 81,
   "id": "6b5a8265-69f0-4204-9a9d-735eae530625",
   "metadata": {},
   "outputs": [],
   "source": [
    "# Enccode text\n",
    "tweets_emds = text_model.encode(tweet_data['processed_tweet'].tolist())\n",
    "\n",
    "tweet_data['clip_text_embeddings'] = tweets_emds.tolist()"
   ]
  },
  {
   "cell_type": "code",
   "execution_count": 83,
   "id": "740fdf1b-b2d5-4782-9cb1-defdd284c130",
   "metadata": {},
   "outputs": [],
   "source": [
    "tweet_data['clip_text_embeddings'] = tweets_emds.tolist()"
   ]
  },
  {
   "cell_type": "code",
   "execution_count": 97,
   "id": "6e916692-f6d8-4399-ac93-397d856f705b",
   "metadata": {},
   "outputs": [],
   "source": [
    "tweet_data.to_pickle('tweet_data_all_emb.pkl')"
   ]
  },
  {
   "cell_type": "code",
   "execution_count": 99,
   "id": "88697a23-0553-4f5e-bc6e-a4de7b7a691c",
   "metadata": {},
   "outputs": [
    {
     "data": {
      "text/html": [
       "<div>\n",
       "<style scoped>\n",
       "    .dataframe tbody tr th:only-of-type {\n",
       "        vertical-align: middle;\n",
       "    }\n",
       "\n",
       "    .dataframe tbody tr th {\n",
       "        vertical-align: top;\n",
       "    }\n",
       "\n",
       "    .dataframe thead th {\n",
       "        text-align: right;\n",
       "    }\n",
       "</style>\n",
       "<table border=\"1\" class=\"dataframe\">\n",
       "  <thead>\n",
       "    <tr style=\"text-align: right;\">\n",
       "      <th></th>\n",
       "      <th>tweet_id</th>\n",
       "      <th>work_time</th>\n",
       "      <th>orig_path</th>\n",
       "      <th>text</th>\n",
       "      <th>img</th>\n",
       "      <th>processed_tweet</th>\n",
       "      <th>text_embeddings</th>\n",
       "      <th>imgs_embeddings</th>\n",
       "      <th>clip_imgs_embeddings</th>\n",
       "      <th>clip_text_embeddings</th>\n",
       "    </tr>\n",
       "  </thead>\n",
       "  <tbody>\n",
       "    <tr>\n",
       "      <th>0</th>\n",
       "      <td>1437188092683751424</td>\n",
       "      <td>23.626190</td>\n",
       "      <td>social-data/media_12/pt/1437188092683751429/im...</td>\n",
       "      <td>Simone ja esta gravando um novo clipe para “En...</td>\n",
       "      <td>annotated-data/1437188092683751429.jpg</td>\n",
       "      <td>Simone ja esta gravando um novo clipe para “ E...</td>\n",
       "      <td>[0.1138482466340065, 0.16404683887958527, 0.07...</td>\n",
       "      <td>[0.0017162024741992354, 0.017185570672154427, ...</td>\n",
       "      <td>[0.001071929931640625, 0.002445220947265625, -...</td>\n",
       "      <td>[0.1509532630443573, -0.14887511730194092, -0....</td>\n",
       "    </tr>\n",
       "    <tr>\n",
       "      <th>1</th>\n",
       "      <td>1435028621362614272</td>\n",
       "      <td>23.626190</td>\n",
       "      <td>social-data/media_07/pt/1435028621362614277/im...</td>\n",
       "      <td>✅ Dominado Vila Real, Vila Pouca De Aguiar, Pe...</td>\n",
       "      <td>annotated-data/1435028621362614277.jpg</td>\n",
       "      <td>Dominado Vila Real, Vila Pouca De Aguiar, Pens...</td>\n",
       "      <td>[0.00721816485747695, 0.14304794371128082, 0.0...</td>\n",
       "      <td>[0.02427668683230877, -0.010925845243036747, 0...</td>\n",
       "      <td>[-0.01496124267578125, -0.0121307373046875, 0....</td>\n",
       "      <td>[-0.1372763216495514, 0.11387073993682861, 0.0...</td>\n",
       "    </tr>\n",
       "    <tr>\n",
       "      <th>2</th>\n",
       "      <td>1435346675674013696</td>\n",
       "      <td>23.626190</td>\n",
       "      <td>social-data/media_07/pt/1435346675674013701/im...</td>\n",
       "      <td>EVANGELINE LILLY EU TE AMO EU TE AMOOOO  https...</td>\n",
       "      <td>annotated-data/1435346675674013701.jpg</td>\n",
       "      <td>EVANGELINE LILLY EU TE AMO EU TE AMOOOO</td>\n",
       "      <td>[0.07994440197944641, 0.04783586412668228, 0.0...</td>\n",
       "      <td>[0.0498591773211956, 0.0070304046384990215, -0...</td>\n",
       "      <td>[0.0223388671875, -0.0005679130554199219, -0.0...</td>\n",
       "      <td>[0.026219116523861885, 0.10483500361442566, -0...</td>\n",
       "    </tr>\n",
       "    <tr>\n",
       "      <th>3</th>\n",
       "      <td>1437130100718383104</td>\n",
       "      <td>23.626190</td>\n",
       "      <td>social-data/media_12/pt/1437130100718383105/im...</td>\n",
       "      <td>Aqui de boa na rede, enquanto o MBL passa verg...</td>\n",
       "      <td>annotated-data/1437130100718383105.jpg</td>\n",
       "      <td>Aqui de boa na rede, enquanto o MBL passa verg...</td>\n",
       "      <td>[0.07642020285129547, 0.1480882316827774, 0.04...</td>\n",
       "      <td>[0.010791047476232052, 0.033861253410577774, 0...</td>\n",
       "      <td>[0.030792236328125, -0.0093994140625, 0.004520...</td>\n",
       "      <td>[0.2534538209438324, 0.15335972607135773, -0.1...</td>\n",
       "    </tr>\n",
       "    <tr>\n",
       "      <th>4</th>\n",
       "      <td>1435211167924957184</td>\n",
       "      <td>21.878664</td>\n",
       "      <td>social-data/media_07/en/1435211167924957190/im...</td>\n",
       "      <td>@Khayizasoze I was sent this picture,sengiyasa...</td>\n",
       "      <td>annotated-data/1435211167924957190.jpg</td>\n",
       "      <td>I was sent this picture,sengiyasaba</td>\n",
       "      <td>[0.14479757845401764, 0.04978952184319496, -0....</td>\n",
       "      <td>[0.03496298938989639, 0.011268963105976582, -0...</td>\n",
       "      <td>[-0.0131988525390625, 0.007293701171875, -0.01...</td>\n",
       "      <td>[0.09891669452190399, 0.15106208622455597, 0.1...</td>\n",
       "    </tr>\n",
       "    <tr>\n",
       "      <th>...</th>\n",
       "      <td>...</td>\n",
       "      <td>...</td>\n",
       "      <td>...</td>\n",
       "      <td>...</td>\n",
       "      <td>...</td>\n",
       "      <td>...</td>\n",
       "      <td>...</td>\n",
       "      <td>...</td>\n",
       "      <td>...</td>\n",
       "      <td>...</td>\n",
       "    </tr>\n",
       "    <tr>\n",
       "      <th>4995</th>\n",
       "      <td>1436688481242255360</td>\n",
       "      <td>15.889647</td>\n",
       "      <td>social-data/media_8_11/pt/1436688481242255361/...</td>\n",
       "      <td>@Mano_Cebola1 ELE D NOVO SIIIIIM! E AINDA TEM ...</td>\n",
       "      <td>annotated-data/1436688481242255361.jpg</td>\n",
       "      <td>ELE D NOVO SIIIIIM! E AINDA TEM MAIS FIDDLES F...</td>\n",
       "      <td>[0.07685352116823196, -0.006391509436070919, 0...</td>\n",
       "      <td>[0.01883683167397976, -0.014022131450474262, 0...</td>\n",
       "      <td>[-0.03485107421875, 0.0283660888671875, 0.0211...</td>\n",
       "      <td>[-0.01074286364018917, 0.007608398795127869, 0...</td>\n",
       "    </tr>\n",
       "    <tr>\n",
       "      <th>4996</th>\n",
       "      <td>1436071900803915776</td>\n",
       "      <td>20.498567</td>\n",
       "      <td>social-data/media_8_11/pt/1436071900803915776/...</td>\n",
       "      <td>Pois, é! Máscaras caindo… #BolsonaroArregou e ...</td>\n",
       "      <td>annotated-data/1436071900803915776.jpg</td>\n",
       "      <td>Pois, é! Máscaras caindo… Bolsonaro Arregou e ...</td>\n",
       "      <td>[0.03707044944167137, 0.12567757070064545, 0.0...</td>\n",
       "      <td>[0.033475033938884735, -0.005199815612286329, ...</td>\n",
       "      <td>[-0.004947662353515625, 0.042572021484375, -0....</td>\n",
       "      <td>[0.04612525552511215, 0.11057652533054352, -0....</td>\n",
       "    </tr>\n",
       "    <tr>\n",
       "      <th>4997</th>\n",
       "      <td>1436067261094236160</td>\n",
       "      <td>20.498567</td>\n",
       "      <td>social-data/media_8_11/pt/1436067261094236169/...</td>\n",
       "      <td>Um móvel novo é sempre bem vindo para renovar ...</td>\n",
       "      <td>annotated-data/1436067261094236169.jpg</td>\n",
       "      <td>Um móvel novo é sempre bem vindo para renovar ...</td>\n",
       "      <td>[0.06778176873922348, 0.14513982832431793, 0.0...</td>\n",
       "      <td>[0.03648684173822403, 0.038903187960386276, 0....</td>\n",
       "      <td>[-0.0277557373046875, 0.043914794921875, 0.007...</td>\n",
       "      <td>[0.029536902904510498, 0.23566432297229767, -0...</td>\n",
       "    </tr>\n",
       "    <tr>\n",
       "      <th>4998</th>\n",
       "      <td>1435440766868987904</td>\n",
       "      <td>20.498567</td>\n",
       "      <td>social-data/media_8_11/pt/1435440766868987907/...</td>\n",
       "      <td>Descobri que zoar Bolsominions é bom pro engaj...</td>\n",
       "      <td>annotated-data/1435440766868987907.jpg</td>\n",
       "      <td>Descobri que zoar Bolsominions é bom pro engaj...</td>\n",
       "      <td>[0.03715939074754715, 0.1534595936536789, 0.02...</td>\n",
       "      <td>[0.02073543332517147, -0.009916947223246098, 0...</td>\n",
       "      <td>[0.0243682861328125, 0.08709716796875, 0.01355...</td>\n",
       "      <td>[0.12946784496307373, 0.11372116208076477, 0.3...</td>\n",
       "    </tr>\n",
       "    <tr>\n",
       "      <th>4999</th>\n",
       "      <td>1437256230867816448</td>\n",
       "      <td>20.498567</td>\n",
       "      <td>social-data/media_12/pt/1437256230867816450/im...</td>\n",
       "      <td>De tanto andar de mãos dadas com o PT, o MBL c...</td>\n",
       "      <td>annotated-data/1437256230867816450.jpg</td>\n",
       "      <td>De tanto andar de mãos dadas com o PT, o MBL c...</td>\n",
       "      <td>[0.1129765436053276, 0.15828993916511536, 0.12...</td>\n",
       "      <td>[0.04510101303458214, 0.002824666677042842, 0....</td>\n",
       "      <td>[-0.0209197998046875, -0.00255584716796875, -0...</td>\n",
       "      <td>[0.32892948389053345, 0.24397268891334534, 0.0...</td>\n",
       "    </tr>\n",
       "  </tbody>\n",
       "</table>\n",
       "<p>5000 rows × 10 columns</p>\n",
       "</div>"
      ],
      "text/plain": [
       "                 tweet_id  work_time  \\\n",
       "0     1437188092683751424  23.626190   \n",
       "1     1435028621362614272  23.626190   \n",
       "2     1435346675674013696  23.626190   \n",
       "3     1437130100718383104  23.626190   \n",
       "4     1435211167924957184  21.878664   \n",
       "...                   ...        ...   \n",
       "4995  1436688481242255360  15.889647   \n",
       "4996  1436071900803915776  20.498567   \n",
       "4997  1436067261094236160  20.498567   \n",
       "4998  1435440766868987904  20.498567   \n",
       "4999  1437256230867816448  20.498567   \n",
       "\n",
       "                                              orig_path  \\\n",
       "0     social-data/media_12/pt/1437188092683751429/im...   \n",
       "1     social-data/media_07/pt/1435028621362614277/im...   \n",
       "2     social-data/media_07/pt/1435346675674013701/im...   \n",
       "3     social-data/media_12/pt/1437130100718383105/im...   \n",
       "4     social-data/media_07/en/1435211167924957190/im...   \n",
       "...                                                 ...   \n",
       "4995  social-data/media_8_11/pt/1436688481242255361/...   \n",
       "4996  social-data/media_8_11/pt/1436071900803915776/...   \n",
       "4997  social-data/media_8_11/pt/1436067261094236169/...   \n",
       "4998  social-data/media_8_11/pt/1435440766868987907/...   \n",
       "4999  social-data/media_12/pt/1437256230867816450/im...   \n",
       "\n",
       "                                                   text  \\\n",
       "0     Simone ja esta gravando um novo clipe para “En...   \n",
       "1     ✅ Dominado Vila Real, Vila Pouca De Aguiar, Pe...   \n",
       "2     EVANGELINE LILLY EU TE AMO EU TE AMOOOO  https...   \n",
       "3     Aqui de boa na rede, enquanto o MBL passa verg...   \n",
       "4     @Khayizasoze I was sent this picture,sengiyasa...   \n",
       "...                                                 ...   \n",
       "4995  @Mano_Cebola1 ELE D NOVO SIIIIIM! E AINDA TEM ...   \n",
       "4996  Pois, é! Máscaras caindo… #BolsonaroArregou e ...   \n",
       "4997  Um móvel novo é sempre bem vindo para renovar ...   \n",
       "4998  Descobri que zoar Bolsominions é bom pro engaj...   \n",
       "4999  De tanto andar de mãos dadas com o PT, o MBL c...   \n",
       "\n",
       "                                         img  \\\n",
       "0     annotated-data/1437188092683751429.jpg   \n",
       "1     annotated-data/1435028621362614277.jpg   \n",
       "2     annotated-data/1435346675674013701.jpg   \n",
       "3     annotated-data/1437130100718383105.jpg   \n",
       "4     annotated-data/1435211167924957190.jpg   \n",
       "...                                      ...   \n",
       "4995  annotated-data/1436688481242255361.jpg   \n",
       "4996  annotated-data/1436071900803915776.jpg   \n",
       "4997  annotated-data/1436067261094236169.jpg   \n",
       "4998  annotated-data/1435440766868987907.jpg   \n",
       "4999  annotated-data/1437256230867816450.jpg   \n",
       "\n",
       "                                        processed_tweet  \\\n",
       "0     Simone ja esta gravando um novo clipe para “ E...   \n",
       "1     Dominado Vila Real, Vila Pouca De Aguiar, Pens...   \n",
       "2               EVANGELINE LILLY EU TE AMO EU TE AMOOOO   \n",
       "3     Aqui de boa na rede, enquanto o MBL passa verg...   \n",
       "4                   I was sent this picture,sengiyasaba   \n",
       "...                                                 ...   \n",
       "4995  ELE D NOVO SIIIIIM! E AINDA TEM MAIS FIDDLES F...   \n",
       "4996  Pois, é! Máscaras caindo… Bolsonaro Arregou e ...   \n",
       "4997  Um móvel novo é sempre bem vindo para renovar ...   \n",
       "4998  Descobri que zoar Bolsominions é bom pro engaj...   \n",
       "4999  De tanto andar de mãos dadas com o PT, o MBL c...   \n",
       "\n",
       "                                        text_embeddings  \\\n",
       "0     [0.1138482466340065, 0.16404683887958527, 0.07...   \n",
       "1     [0.00721816485747695, 0.14304794371128082, 0.0...   \n",
       "2     [0.07994440197944641, 0.04783586412668228, 0.0...   \n",
       "3     [0.07642020285129547, 0.1480882316827774, 0.04...   \n",
       "4     [0.14479757845401764, 0.04978952184319496, -0....   \n",
       "...                                                 ...   \n",
       "4995  [0.07685352116823196, -0.006391509436070919, 0...   \n",
       "4996  [0.03707044944167137, 0.12567757070064545, 0.0...   \n",
       "4997  [0.06778176873922348, 0.14513982832431793, 0.0...   \n",
       "4998  [0.03715939074754715, 0.1534595936536789, 0.02...   \n",
       "4999  [0.1129765436053276, 0.15828993916511536, 0.12...   \n",
       "\n",
       "                                        imgs_embeddings  \\\n",
       "0     [0.0017162024741992354, 0.017185570672154427, ...   \n",
       "1     [0.02427668683230877, -0.010925845243036747, 0...   \n",
       "2     [0.0498591773211956, 0.0070304046384990215, -0...   \n",
       "3     [0.010791047476232052, 0.033861253410577774, 0...   \n",
       "4     [0.03496298938989639, 0.011268963105976582, -0...   \n",
       "...                                                 ...   \n",
       "4995  [0.01883683167397976, -0.014022131450474262, 0...   \n",
       "4996  [0.033475033938884735, -0.005199815612286329, ...   \n",
       "4997  [0.03648684173822403, 0.038903187960386276, 0....   \n",
       "4998  [0.02073543332517147, -0.009916947223246098, 0...   \n",
       "4999  [0.04510101303458214, 0.002824666677042842, 0....   \n",
       "\n",
       "                                   clip_imgs_embeddings  \\\n",
       "0     [0.001071929931640625, 0.002445220947265625, -...   \n",
       "1     [-0.01496124267578125, -0.0121307373046875, 0....   \n",
       "2     [0.0223388671875, -0.0005679130554199219, -0.0...   \n",
       "3     [0.030792236328125, -0.0093994140625, 0.004520...   \n",
       "4     [-0.0131988525390625, 0.007293701171875, -0.01...   \n",
       "...                                                 ...   \n",
       "4995  [-0.03485107421875, 0.0283660888671875, 0.0211...   \n",
       "4996  [-0.004947662353515625, 0.042572021484375, -0....   \n",
       "4997  [-0.0277557373046875, 0.043914794921875, 0.007...   \n",
       "4998  [0.0243682861328125, 0.08709716796875, 0.01355...   \n",
       "4999  [-0.0209197998046875, -0.00255584716796875, -0...   \n",
       "\n",
       "                                   clip_text_embeddings  \n",
       "0     [0.1509532630443573, -0.14887511730194092, -0....  \n",
       "1     [-0.1372763216495514, 0.11387073993682861, 0.0...  \n",
       "2     [0.026219116523861885, 0.10483500361442566, -0...  \n",
       "3     [0.2534538209438324, 0.15335972607135773, -0.1...  \n",
       "4     [0.09891669452190399, 0.15106208622455597, 0.1...  \n",
       "...                                                 ...  \n",
       "4995  [-0.01074286364018917, 0.007608398795127869, 0...  \n",
       "4996  [0.04612525552511215, 0.11057652533054352, -0....  \n",
       "4997  [0.029536902904510498, 0.23566432297229767, -0...  \n",
       "4998  [0.12946784496307373, 0.11372116208076477, 0.3...  \n",
       "4999  [0.32892948389053345, 0.24397268891334534, 0.0...  \n",
       "\n",
       "[5000 rows x 10 columns]"
      ]
     },
     "execution_count": 99,
     "metadata": {},
     "output_type": "execute_result"
    }
   ],
   "source": [
    "tweet_data"
   ]
  },
  {
   "cell_type": "markdown",
   "id": "c5fa4a78-183e-43e4-adf7-31af12b0f49f",
   "metadata": {},
   "source": [
    "# Create concat and sum of embeddings"
   ]
  },
  {
   "cell_type": "code",
   "execution_count": 109,
   "id": "a64b2f63-8a15-4477-a820-5aa18c5443b7",
   "metadata": {},
   "outputs": [],
   "source": [
    "tweet_data = tweet_data.rename(columns={'imgs_embeddings':'MobileNet_embeddings', 'text_embeddings': 'Roberta_embeddings'})"
   ]
  },
  {
   "cell_type": "code",
   "execution_count": 118,
   "id": "21d71324-d1ab-4ede-91d4-730962d0e0b2",
   "metadata": {},
   "outputs": [],
   "source": [
    "MobileNet_Roberta_embeddings = []\n",
    "clip_imgs_cat_text_embeddings = []\n",
    "clip_imgs_sum_text_embeddings = []\n",
    "for index, row in tweet_data.iterrows():\n",
    "    robert_emb = row['Roberta_embeddings']\n",
    "    mnet_emb = row['MobileNet_embeddings']\n",
    "    MobileNet_Roberta_embeddings.append(mnet_emb + robert_emb)\n",
    "    \n",
    "    clip_img_emb = row['clip_imgs_embeddings']\n",
    "    clip_txt_emb = row['clip_text_embeddings']\n",
    "    clip_imgs_cat_text_embeddings.append(clip_img_emb + clip_txt_emb)\n",
    "    clip_imgs_sum_text_embeddings.append((np.array(clip_img_emb) + np.array(clip_txt_emb)).tolist())\n"
   ]
  },
  {
   "cell_type": "code",
   "execution_count": 120,
   "id": "c6e5de4f-5a61-4f24-901a-902d8a88f488",
   "metadata": {},
   "outputs": [],
   "source": [
    "\n",
    "tweet_data['MobileNet_Roberta_embeddings'] = MobileNet_Roberta_embeddings\n",
    "tweet_data['clip_imgs_cat_text_embeddings'] = clip_imgs_cat_text_embeddings\n",
    "tweet_data['clip_imgs_sum_text_embeddings'] = clip_imgs_sum_text_embeddings"
   ]
  },
  {
   "cell_type": "code",
   "execution_count": 121,
   "id": "b916640e-898d-44d1-a829-9687165b6194",
   "metadata": {},
   "outputs": [],
   "source": [
    "tweet_data.to_pickle('tweet_data_all_emb.pkl')"
   ]
  }
 ],
 "metadata": {
  "kernelspec": {
   "display_name": "Python (filter)",
   "language": "python",
   "name": "filter"
  },
  "language_info": {
   "codemirror_mode": {
    "name": "ipython",
    "version": 3
   },
   "file_extension": ".py",
   "mimetype": "text/x-python",
   "name": "python",
   "nbconvert_exporter": "python",
   "pygments_lexer": "ipython3",
   "version": "3.8.13"
  }
 },
 "nbformat": 4,
 "nbformat_minor": 5
}

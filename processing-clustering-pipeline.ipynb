{
 "cells": [
  {
   "cell_type": "raw",
   "id": "legendary-showcase",
   "metadata": {},
   "source": [
    "# download data\n",
    "import gdown\n",
    "url = 'https://drive.google.com/uc?id=1QwcVbtfcLmepQcO55RUdWsqmISR1V5vV'\n",
    "output = 'annotated-data.zip'\n",
    "gdown.download(url, output)\n"
   ]
  },
  {
   "cell_type": "code",
   "execution_count": 107,
   "id": "indirect-hamilton",
   "metadata": {},
   "outputs": [],
   "source": [
    "import pandas as pd\n",
    "import numpy as np\n",
    "import preprocess"
   ]
  },
  {
   "cell_type": "code",
   "execution_count": 108,
   "id": "dangerous-synthesis",
   "metadata": {},
   "outputs": [],
   "source": [
    "df_joao_annotated = pd.read_json('phillipe_annotion.json', lines=True)"
   ]
  },
  {
   "cell_type": "code",
   "execution_count": 3,
   "id": "valuable-fiber",
   "metadata": {},
   "outputs": [],
   "source": [
    "df2 = df_joao_annotated.drop_duplicates(subset=['tweet_id'], keep='first')"
   ]
  },
  {
   "cell_type": "code",
   "execution_count": 4,
   "id": "immediate-xerox",
   "metadata": {},
   "outputs": [
    {
     "data": {
      "text/html": [
       "<div>\n",
       "<style scoped>\n",
       "    .dataframe tbody tr th:only-of-type {\n",
       "        vertical-align: middle;\n",
       "    }\n",
       "\n",
       "    .dataframe tbody tr th {\n",
       "        vertical-align: top;\n",
       "    }\n",
       "\n",
       "    .dataframe thead th {\n",
       "        text-align: right;\n",
       "    }\n",
       "</style>\n",
       "<table border=\"1\" class=\"dataframe\">\n",
       "  <thead>\n",
       "    <tr style=\"text-align: right;\">\n",
       "      <th></th>\n",
       "      <th>tweet_id</th>\n",
       "      <th>img_label</th>\n",
       "      <th>txt_label</th>\n",
       "      <th>work_time</th>\n",
       "      <th>orig_path</th>\n",
       "      <th>text</th>\n",
       "      <th>img</th>\n",
       "    </tr>\n",
       "  </thead>\n",
       "  <tbody>\n",
       "    <tr>\n",
       "      <th>0</th>\n",
       "      <td>1437188092683751424</td>\n",
       "      <td>Irrelevant</td>\n",
       "      <td>Irrelevant</td>\n",
       "      <td>23.626190</td>\n",
       "      <td>social-data/media_12/pt/1437188092683751429/im...</td>\n",
       "      <td>Simone ja esta gravando um novo clipe para “En...</td>\n",
       "      <td>annotated-data/1437188092683751429.jpg</td>\n",
       "    </tr>\n",
       "    <tr>\n",
       "      <th>1</th>\n",
       "      <td>1435028621362614272</td>\n",
       "      <td>Irrelevant</td>\n",
       "      <td>Irrelevant</td>\n",
       "      <td>23.626190</td>\n",
       "      <td>social-data/media_07/pt/1435028621362614277/im...</td>\n",
       "      <td>✅ Dominado Vila Real, Vila Pouca De Aguiar, Pe...</td>\n",
       "      <td>annotated-data/1435028621362614277.jpg</td>\n",
       "    </tr>\n",
       "    <tr>\n",
       "      <th>2</th>\n",
       "      <td>1435346675674013696</td>\n",
       "      <td>Irrelevant</td>\n",
       "      <td>Irrelevant</td>\n",
       "      <td>23.626190</td>\n",
       "      <td>social-data/media_07/pt/1435346675674013701/im...</td>\n",
       "      <td>EVANGELINE LILLY EU TE AMO EU TE AMOOOO  https...</td>\n",
       "      <td>annotated-data/1435346675674013701.jpg</td>\n",
       "    </tr>\n",
       "    <tr>\n",
       "      <th>3</th>\n",
       "      <td>1437130100718383104</td>\n",
       "      <td>Irrelevant</td>\n",
       "      <td>Relevant (Related)</td>\n",
       "      <td>23.626190</td>\n",
       "      <td>social-data/media_12/pt/1437130100718383105/im...</td>\n",
       "      <td>Aqui de boa na rede, enquanto o MBL passa verg...</td>\n",
       "      <td>annotated-data/1437130100718383105.jpg</td>\n",
       "    </tr>\n",
       "    <tr>\n",
       "      <th>4</th>\n",
       "      <td>1435211167924957184</td>\n",
       "      <td>Irrelevant</td>\n",
       "      <td>Irrelevant</td>\n",
       "      <td>21.878664</td>\n",
       "      <td>social-data/media_07/en/1435211167924957190/im...</td>\n",
       "      <td>@Khayizasoze I was sent this picture,sengiyasa...</td>\n",
       "      <td>annotated-data/1435211167924957190.jpg</td>\n",
       "    </tr>\n",
       "    <tr>\n",
       "      <th>...</th>\n",
       "      <td>...</td>\n",
       "      <td>...</td>\n",
       "      <td>...</td>\n",
       "      <td>...</td>\n",
       "      <td>...</td>\n",
       "      <td>...</td>\n",
       "      <td>...</td>\n",
       "    </tr>\n",
       "    <tr>\n",
       "      <th>4995</th>\n",
       "      <td>1436688481242255360</td>\n",
       "      <td>Irrelevant</td>\n",
       "      <td>Irrelevant</td>\n",
       "      <td>15.889647</td>\n",
       "      <td>social-data/media_8_11/pt/1436688481242255361/...</td>\n",
       "      <td>@Mano_Cebola1 ELE D NOVO SIIIIIM! E AINDA TEM ...</td>\n",
       "      <td>annotated-data/1436688481242255361.jpg</td>\n",
       "    </tr>\n",
       "    <tr>\n",
       "      <th>4996</th>\n",
       "      <td>1436071900803915776</td>\n",
       "      <td>Irrelevant</td>\n",
       "      <td>Relevant (Related)</td>\n",
       "      <td>20.498567</td>\n",
       "      <td>social-data/media_8_11/pt/1436071900803915776/...</td>\n",
       "      <td>Pois, é! Máscaras caindo… #BolsonaroArregou e ...</td>\n",
       "      <td>annotated-data/1436071900803915776.jpg</td>\n",
       "    </tr>\n",
       "    <tr>\n",
       "      <th>4997</th>\n",
       "      <td>1436067261094236160</td>\n",
       "      <td>Irrelevant</td>\n",
       "      <td>Irrelevant</td>\n",
       "      <td>20.498567</td>\n",
       "      <td>social-data/media_8_11/pt/1436067261094236169/...</td>\n",
       "      <td>Um móvel novo é sempre bem vindo para renovar ...</td>\n",
       "      <td>annotated-data/1436067261094236169.jpg</td>\n",
       "    </tr>\n",
       "    <tr>\n",
       "      <th>4998</th>\n",
       "      <td>1435440766868987904</td>\n",
       "      <td>Irrelevant</td>\n",
       "      <td>Relevant (Related)</td>\n",
       "      <td>20.498567</td>\n",
       "      <td>social-data/media_8_11/pt/1435440766868987907/...</td>\n",
       "      <td>Descobri que zoar Bolsominions é bom pro engaj...</td>\n",
       "      <td>annotated-data/1435440766868987907.jpg</td>\n",
       "    </tr>\n",
       "    <tr>\n",
       "      <th>4999</th>\n",
       "      <td>1437256230867816448</td>\n",
       "      <td>Relevant (Informative)</td>\n",
       "      <td>Relevant (Related)</td>\n",
       "      <td>20.498567</td>\n",
       "      <td>social-data/media_12/pt/1437256230867816450/im...</td>\n",
       "      <td>De tanto andar de mãos dadas com o PT, o MBL c...</td>\n",
       "      <td>annotated-data/1437256230867816450.jpg</td>\n",
       "    </tr>\n",
       "  </tbody>\n",
       "</table>\n",
       "<p>5000 rows × 7 columns</p>\n",
       "</div>"
      ],
      "text/plain": [
       "                 tweet_id               img_label           txt_label  \\\n",
       "0     1437188092683751424              Irrelevant          Irrelevant   \n",
       "1     1435028621362614272              Irrelevant          Irrelevant   \n",
       "2     1435346675674013696              Irrelevant          Irrelevant   \n",
       "3     1437130100718383104              Irrelevant  Relevant (Related)   \n",
       "4     1435211167924957184              Irrelevant          Irrelevant   \n",
       "...                   ...                     ...                 ...   \n",
       "4995  1436688481242255360              Irrelevant          Irrelevant   \n",
       "4996  1436071900803915776              Irrelevant  Relevant (Related)   \n",
       "4997  1436067261094236160              Irrelevant          Irrelevant   \n",
       "4998  1435440766868987904              Irrelevant  Relevant (Related)   \n",
       "4999  1437256230867816448  Relevant (Informative)  Relevant (Related)   \n",
       "\n",
       "      work_time                                          orig_path  \\\n",
       "0     23.626190  social-data/media_12/pt/1437188092683751429/im...   \n",
       "1     23.626190  social-data/media_07/pt/1435028621362614277/im...   \n",
       "2     23.626190  social-data/media_07/pt/1435346675674013701/im...   \n",
       "3     23.626190  social-data/media_12/pt/1437130100718383105/im...   \n",
       "4     21.878664  social-data/media_07/en/1435211167924957190/im...   \n",
       "...         ...                                                ...   \n",
       "4995  15.889647  social-data/media_8_11/pt/1436688481242255361/...   \n",
       "4996  20.498567  social-data/media_8_11/pt/1436071900803915776/...   \n",
       "4997  20.498567  social-data/media_8_11/pt/1436067261094236169/...   \n",
       "4998  20.498567  social-data/media_8_11/pt/1435440766868987907/...   \n",
       "4999  20.498567  social-data/media_12/pt/1437256230867816450/im...   \n",
       "\n",
       "                                                   text  \\\n",
       "0     Simone ja esta gravando um novo clipe para “En...   \n",
       "1     ✅ Dominado Vila Real, Vila Pouca De Aguiar, Pe...   \n",
       "2     EVANGELINE LILLY EU TE AMO EU TE AMOOOO  https...   \n",
       "3     Aqui de boa na rede, enquanto o MBL passa verg...   \n",
       "4     @Khayizasoze I was sent this picture,sengiyasa...   \n",
       "...                                                 ...   \n",
       "4995  @Mano_Cebola1 ELE D NOVO SIIIIIM! E AINDA TEM ...   \n",
       "4996  Pois, é! Máscaras caindo… #BolsonaroArregou e ...   \n",
       "4997  Um móvel novo é sempre bem vindo para renovar ...   \n",
       "4998  Descobri que zoar Bolsominions é bom pro engaj...   \n",
       "4999  De tanto andar de mãos dadas com o PT, o MBL c...   \n",
       "\n",
       "                                         img  \n",
       "0     annotated-data/1437188092683751429.jpg  \n",
       "1     annotated-data/1435028621362614277.jpg  \n",
       "2     annotated-data/1435346675674013701.jpg  \n",
       "3     annotated-data/1437130100718383105.jpg  \n",
       "4     annotated-data/1435211167924957190.jpg  \n",
       "...                                      ...  \n",
       "4995  annotated-data/1436688481242255361.jpg  \n",
       "4996  annotated-data/1436071900803915776.jpg  \n",
       "4997  annotated-data/1436067261094236169.jpg  \n",
       "4998  annotated-data/1435440766868987907.jpg  \n",
       "4999  annotated-data/1437256230867816450.jpg  \n",
       "\n",
       "[5000 rows x 7 columns]"
      ]
     },
     "execution_count": 4,
     "metadata": {},
     "output_type": "execute_result"
    }
   ],
   "source": [
    "df2"
   ]
  },
  {
   "cell_type": "code",
   "execution_count": 54,
   "id": "analyzed-cliff",
   "metadata": {},
   "outputs": [],
   "source": [
    "clean_text = [] \n",
    "\n",
    "for index, row in df2.iterrows():\n",
    "    clean_text.append(preprocess.pre_process(row['text'], keep_hashtag = True, keep_special_symbols = True))\n",
    "\n",
    "df2['processed_tweet'] = clean_text"
   ]
  },
  {
   "cell_type": "markdown",
   "id": "young-recycling",
   "metadata": {},
   "source": [
    "## Data Shuffle and Separation"
   ]
  },
  {
   "cell_type": "code",
   "execution_count": 58,
   "id": "complete-force",
   "metadata": {},
   "outputs": [],
   "source": [
    "df_shuf = df2.sample(frac=1, random_state=0).reset_index(drop=True)"
   ]
  },
  {
   "cell_type": "code",
   "execution_count": 59,
   "id": "brief-equality",
   "metadata": {},
   "outputs": [],
   "source": [
    "df_train = df_shuf.iloc[:4000]\n",
    "df_test  = df_shuf.iloc[4000:]"
   ]
  },
  {
   "cell_type": "markdown",
   "id": "according-investing",
   "metadata": {},
   "source": [
    "## First Iteration"
   ]
  },
  {
   "cell_type": "code",
   "execution_count": 61,
   "id": "following-sequence",
   "metadata": {},
   "outputs": [],
   "source": [
    "df1 = df_train#.iloc[:1000]"
   ]
  },
  {
   "cell_type": "code",
   "execution_count": 49,
   "id": "combined-crest",
   "metadata": {},
   "outputs": [],
   "source": [
    "from sentence_transformers import SentenceTransformer, util\n",
    "from sklearn import metrics\n",
    "from sklearn.metrics import pairwise_distances"
   ]
  },
  {
   "cell_type": "code",
   "execution_count": 50,
   "id": "focal-coverage",
   "metadata": {},
   "outputs": [],
   "source": [
    "import os\n",
    "os.environ[\"CUDA_DEVICE_ORDER\"]=\"PCI_BUS_ID\"\n",
    "os.environ[\"CUDA_VISIBLE_DEVICES\"]=\"1\""
   ]
  },
  {
   "cell_type": "markdown",
   "id": "respective-merchant",
   "metadata": {},
   "source": [
    "### Text Embeddings"
   ]
  },
  {
   "cell_type": "code",
   "execution_count": 51,
   "id": "perceived-folks",
   "metadata": {},
   "outputs": [],
   "source": [
    "model = SentenceTransformer('paraphrase-multilingual-mpnet-base-v2')"
   ]
  },
  {
   "cell_type": "code",
   "execution_count": 62,
   "id": "irish-civilian",
   "metadata": {
    "scrolled": true
   },
   "outputs": [
    {
     "name": "stderr",
     "output_type": "stream",
     "text": [
      "<ipython-input-62-79488a430664>:2: SettingWithCopyWarning: \n",
      "A value is trying to be set on a copy of a slice from a DataFrame.\n",
      "Try using .loc[row_indexer,col_indexer] = value instead\n",
      "\n",
      "See the caveats in the documentation: https://pandas.pydata.org/pandas-docs/stable/user_guide/indexing.html#returning-a-view-versus-a-copy\n",
      "  df1['tweet_embeddings'] = tweets_emds.tolist()\n"
     ]
    }
   ],
   "source": [
    "tweets_emds = model.encode(df1['processed_tweet'].tolist())\n",
    "df1['tweet_embeddings'] = tweets_emds.tolist()"
   ]
  },
  {
   "cell_type": "markdown",
   "id": "stopped-number",
   "metadata": {},
   "source": [
    "## Image Embeddings"
   ]
  },
  {
   "cell_type": "code",
   "execution_count": 7,
   "id": "sustained-microphone",
   "metadata": {},
   "outputs": [
    {
     "name": "stderr",
     "output_type": "stream",
     "text": [
      "/root/miniconda3/envs/russiawar/lib/python3.8/site-packages/tqdm/auto.py:22: TqdmWarning: IProgress not found. Please update jupyter and ipywidgets. See https://ipywidgets.readthedocs.io/en/stable/user_install.html\n",
      "  from .autonotebook import tqdm as notebook_tqdm\n"
     ]
    }
   ],
   "source": [
    "from forensic_lib.forensicsEvidences.imgEv.CNN import  load_default_image_model_or_preprocess, get_image_embedding\n",
    "from forensic_lib.utils.img_utils import load_image\n",
    "from PIL import ImageFile, Image\n",
    "ImageFile.LOAD_TRUNCATED_IMAGES = True"
   ]
  },
  {
   "cell_type": "code",
   "execution_count": 11,
   "id": "mental-rescue",
   "metadata": {},
   "outputs": [
    {
     "name": "stdout",
     "output_type": "stream",
     "text": [
      "Model on GPU              \n"
     ]
    },
    {
     "name": "stderr",
     "output_type": "stream",
     "text": [
      "100%|██████████| 63/63 [00:30<00:00,  2.08it/s]"
     ]
    },
    {
     "name": "stdout",
     "output_type": "stream",
     "text": [
      "\r",
      "Remove Model from Device\r",
      "Model on CPU             \n"
     ]
    },
    {
     "name": "stderr",
     "output_type": "stream",
     "text": [
      "\n"
     ]
    }
   ],
   "source": [
    "image_paths = [m for m in df1['img'].values]\n",
    "image_ids = [ i  for i in df1.index]\n",
    "model, m_transform = load_default_image_model_or_preprocess()\n",
    "embeddings, embeddings_ids  = get_image_embedding(image_paths, image_ids, model, m_transform, gpu_id=1, use_gpu=True)"
   ]
  },
  {
   "cell_type": "code",
   "execution_count": 65,
   "id": "small-perfume",
   "metadata": {},
   "outputs": [
    {
     "name": "stderr",
     "output_type": "stream",
     "text": [
      "<ipython-input-65-b50ee4edaacd>:1: SettingWithCopyWarning: \n",
      "A value is trying to be set on a copy of a slice from a DataFrame.\n",
      "Try using .loc[row_indexer,col_indexer] = value instead\n",
      "\n",
      "See the caveats in the documentation: https://pandas.pydata.org/pandas-docs/stable/user_guide/indexing.html#returning-a-view-versus-a-copy\n",
      "  df1['img_embeddings'] = embeddings.tolist()\n"
     ]
    }
   ],
   "source": [
    "df1['img_embeddings'] = embeddings.tolist()"
   ]
  },
  {
   "cell_type": "markdown",
   "id": "retired-macedonia",
   "metadata": {},
   "source": [
    "### Leiden Clustering"
   ]
  },
  {
   "cell_type": "code",
   "execution_count": 92,
   "id": "distinguished-campus",
   "metadata": {},
   "outputs": [],
   "source": [
    "cos_mat_img = util.cos_sim(df1['img_embeddings'].tolist(),df1['img_embeddings'].tolist())\n",
    "cos_mat_txt = util.cos_sim(df1['tweet_embeddings'].tolist(),df1['tweet_embeddings'].tolist())"
   ]
  },
  {
   "cell_type": "code",
   "execution_count": 93,
   "id": "hydraulic-rebate",
   "metadata": {},
   "outputs": [],
   "source": [
    "cos_copy = np.maximum(cos_mat_img.detach().cpu().numpy(), cos_mat_txt.detach().cpu().numpy())"
   ]
  },
  {
   "cell_type": "code",
   "execution_count": 94,
   "id": "sealed-dayton",
   "metadata": {},
   "outputs": [],
   "source": [
    "cos_copy = cos_mat.detach().cpu().numpy()"
   ]
  },
  {
   "cell_type": "code",
   "execution_count": 95,
   "id": "radio-continent",
   "metadata": {},
   "outputs": [],
   "source": [
    "import networkx as nx\n",
    "import leidenalg as la\n",
    "import igraph as ig"
   ]
  },
  {
   "cell_type": "code",
   "execution_count": 96,
   "id": "regional-litigation",
   "metadata": {},
   "outputs": [],
   "source": [
    "cos_copy[cos_copy < 0.85] = 0"
   ]
  },
  {
   "cell_type": "code",
   "execution_count": 97,
   "id": "quarterly-project",
   "metadata": {},
   "outputs": [],
   "source": [
    "G = nx.from_numpy_array(cos_copy)\n",
    "g = ig.Graph.from_networkx(G)\n",
    "communities = la.find_partition(g, la.ModularityVertexPartition, n_iterations=-1)\n",
    "optimizer = la.Optimiser()        \n",
    "diff = 1\n",
    "while diff > 0:\n",
    "    diff = optimizer.optimise_partition(communities,n_iterations=-1)"
   ]
  },
  {
   "cell_type": "code",
   "execution_count": 46,
   "id": "chronic-triple",
   "metadata": {},
   "outputs": [],
   "source": [
    "G = nx.from_numpy_array(cos_copy)\n",
    "componnets = nx.connected_components(G)\n",
    "\n",
    "\n",
    "communities = []\n",
    "for cc in componnets:\n",
    "    a = G.subgraph(cc)\n",
    "    if a.number_of_nodes() >= 10:\n",
    "        communities.append(a.copy()) \n"
   ]
  },
  {
   "cell_type": "code",
   "execution_count": 48,
   "id": "annual-acrylic",
   "metadata": {},
   "outputs": [
    {
     "name": "stdout",
     "output_type": "stream",
     "text": [
      "94\n",
      "275\n",
      "23\n"
     ]
    }
   ],
   "source": [
    "for i in communities:\n",
    "    print(len(i))"
   ]
  },
  {
   "cell_type": "code",
   "execution_count": 106,
   "id": "catholic-saturday",
   "metadata": {},
   "outputs": [],
   "source": [
    "# communities[0]"
   ]
  },
  {
   "cell_type": "code",
   "execution_count": 35,
   "id": "raising-bowling",
   "metadata": {},
   "outputs": [
    {
     "data": {
      "text/plain": [
       "tweet_id                                        1435421091443449856\n",
       "img_label                                    Relevant (Informative)\n",
       "txt_label                                    Relevant (Informative)\n",
       "work_time                                                 14.794955\n",
       "orig_path         social-data/media_8_11/pt/1435421091443449858/...\n",
       "text              Fortelza na RUA e na luta pelo Fora Bolsonaro!...\n",
       "img                          annotated-data/1435421091443449858.jpg\n",
       "img_embeddings    [0.11678485572338104, 0.3392501175403595, -0.1...\n",
       "Name: 355, dtype: object"
      ]
     },
     "execution_count": 35,
     "metadata": {},
     "output_type": "execute_result"
    }
   ],
   "source": [
    "df1.iloc[355]"
   ]
  },
  {
   "cell_type": "code",
   "execution_count": 75,
   "id": "illegal-destruction",
   "metadata": {},
   "outputs": [
    {
     "data": {
      "text/plain": [
       "[482, 15, 2289, 2803, 412]"
      ]
     },
     "execution_count": 75,
     "metadata": {},
     "output_type": "execute_result"
    }
   ],
   "source": [
    "# find the degree within a community\n",
    "list(set(communities[0]).intersection(communities.graph.neighborhood(communities[0][1])))"
   ]
  },
  {
   "cell_type": "code",
   "execution_count": 109,
   "id": "reliable-depth",
   "metadata": {},
   "outputs": [
    {
     "name": "stdout",
     "output_type": "stream",
     "text": [
      "[24, 1209, 1734]\n"
     ]
    },
    {
     "data": {
      "text/plain": [
       "3"
      ]
     },
     "execution_count": 109,
     "metadata": {},
     "output_type": "execute_result"
    }
   ],
   "source": [
    "print(communities.graph.neighborhood(communities[0][1]))\n",
    "len(communities.graph.neighborhood(communities[0][1]))"
   ]
  },
  {
   "cell_type": "code",
   "execution_count": 110,
   "id": "specialized-convention",
   "metadata": {},
   "outputs": [
    {
     "name": "stdout",
     "output_type": "stream",
     "text": [
      "47\n"
     ]
    }
   ],
   "source": [
    "print((communities.graph.degree()[355]))"
   ]
  },
  {
   "cell_type": "code",
   "execution_count": 111,
   "id": "specified-screening",
   "metadata": {},
   "outputs": [],
   "source": [
    "# Todo: \n",
    "# - sort by the degree inside the community"
   ]
  },
  {
   "cell_type": "code",
   "execution_count": 26,
   "id": "muslim-declaration",
   "metadata": {},
   "outputs": [
    {
     "data": {
      "text/html": [
       "<div>\n",
       "<style scoped>\n",
       "    .dataframe tbody tr th:only-of-type {\n",
       "        vertical-align: middle;\n",
       "    }\n",
       "\n",
       "    .dataframe tbody tr th {\n",
       "        vertical-align: top;\n",
       "    }\n",
       "\n",
       "    .dataframe thead th {\n",
       "        text-align: right;\n",
       "    }\n",
       "</style>\n",
       "<table border=\"1\" class=\"dataframe\">\n",
       "  <thead>\n",
       "    <tr style=\"text-align: right;\">\n",
       "      <th></th>\n",
       "      <th>tweet_id</th>\n",
       "      <th>img_label</th>\n",
       "      <th>txt_label</th>\n",
       "      <th>work_time</th>\n",
       "      <th>orig_path</th>\n",
       "      <th>text</th>\n",
       "      <th>img</th>\n",
       "      <th>img_embeddings</th>\n",
       "    </tr>\n",
       "  </thead>\n",
       "  <tbody>\n",
       "    <tr>\n",
       "      <th>3846</th>\n",
       "      <td>1437107272476499968</td>\n",
       "      <td>Irrelevant</td>\n",
       "      <td>Irrelevant</td>\n",
       "      <td>26.927878</td>\n",
       "      <td>social-data/media_12/pt/1437107272476499970/im...</td>\n",
       "      <td>viva o sus e pau no cu do Bolsonaro 🥰  https:/...</td>\n",
       "      <td>annotated-data/1437107272476499970.jpg</td>\n",
       "      <td>[0.025595773011446, 0.3506164848804474, -0.201...</td>\n",
       "    </tr>\n",
       "  </tbody>\n",
       "</table>\n",
       "</div>"
      ],
      "text/plain": [
       "                 tweet_id   img_label   txt_label  work_time  \\\n",
       "3846  1437107272476499968  Irrelevant  Irrelevant  26.927878   \n",
       "\n",
       "                                              orig_path  \\\n",
       "3846  social-data/media_12/pt/1437107272476499970/im...   \n",
       "\n",
       "                                                   text  \\\n",
       "3846  viva o sus e pau no cu do Bolsonaro 🥰  https:/...   \n",
       "\n",
       "                                         img  \\\n",
       "3846  annotated-data/1437107272476499970.jpg   \n",
       "\n",
       "                                         img_embeddings  \n",
       "3846  [0.025595773011446, 0.3506164848804474, -0.201...  "
      ]
     },
     "execution_count": 26,
     "metadata": {},
     "output_type": "execute_result"
    }
   ],
   "source": [
    "df1.iloc[communities.graph.neighborhood(3846)]"
   ]
  },
  {
   "cell_type": "code",
   "execution_count": 98,
   "id": "mature-january",
   "metadata": {},
   "outputs": [
    {
     "name": "stdout",
     "output_type": "stream",
     "text": [
      "211|  7|  José Sarney foi filiado durante 20 anos ao ARENA, O PARTIDO DA DITADURA MILITAR (chegando até a presidir a legenda) regime esse que LITERALMENTE perseguiu e matou militantes de esquerda, \"companheiros\" do Lula.  https://t.co/hLq8g41bON|  Irrelevant\n",
      "\n",
      "856|  5|  Meses atrás quando tive essa conversa sobre a porra de um meme, lá trás quando eu ainda tinha vontade de ajudar a criar uma comunidade num discord de Arknights  Vendo essa conversa de novo... me fez lembrar um dos motivos por que sai.  https://t.co/eQ7IjiiABT|  Irrelevant\n",
      "\n",
      "1639|  5|  Só um lembrete para nós, o povo:  Por 18 dias o povo do Egito tomou as ruas, em protesto contra o presidente Hosni Mubarak, que governou o país por 30 anos. Mesmo sob ameaças de confrontos violentos, a população resistiu. A Praça Tahrir, no Cairo, capital do país, virou um enorme  https://t.co/6jDNE0pPcJ|  Irrelevant\n",
      "\n",
      "2264|  5|  Amei. O foco é tirar o Bozo. A.  https://t.co/AXpiDGMS6H|  Irrelevant\n",
      "\n",
      "990|  4|  ⚠️ Alerta WPP bolsonarista ⚠️  Depois de meses atiçando o gado, o presidente covarde @jairbolsonaro e seu escudeiro @tarcisiogdf ABANDONAM seus \"caminhoneiros\" à própria sorte e tentam se distanciar da paralisação. Mas não funciona tão fácil. Criaram uma milícia maluca!  https://t.co/b5ZkNBaD9T|  Relevant (Related)\n",
      "\n",
      "1113|  4|  THIS DAY IN OUR PAST: SEPTEMBER 7, 1951 An outbreak of dysentery is reported from five hurricane relief shelters in the Corporate Area, with 50 cases being treated at the Out-Patients’ Department of the Kingston Public Hospital.  https://t.co/dHLiE64GEm|  Irrelevant\n",
      "\n",
      "3017|  4|  A instabilidade política causada pelo Bolsonaro é aterrorizante, e arrasta a economia junto.  https://t.co/TQqbNzhI6b|  Irrelevant\n",
      "\n",
      "3244|  4|  Derramezinho revoltado de palavras agora pós- união de fascista com polícia em Brasília. Aos camaradas nas ruas amanhã, ou apoiando de onde quer que estejam, estamos todos juntos em pensamento.  https://t.co/pxE1XGi7dB|  Irrelevant\n",
      "\n",
      "2544|  3|  #EuConfioNoPresidente Eu continuo com Bolsonaro e vc?  https://t.co/0GZPrJZPYs|  Irrelevant\n",
      "\n",
      "2547|  3|  Em 1999, Temer já acobertava as cagadas do Bolsonaro. Depois disso, Lula o escolheu a dedo pra ser vice presidente do Brasil.  Só mais uma das 1838592919459 evidências de que eles não estão de lados tão opostos assim.  A base de governo dos dois é e sempre será a mesma.  https://t.co/HZAndAuJGp|  Irrelevant\n",
      "\n",
      "3834|  3|  7. Alcançou a completa solidão, nada que ele fazia tinha o mínimo de significado já que não tinha ninguém pra ver oque ele fazia, ele só tentava não perder a sanidade completamente mas falha de novo em fugir do desespero  https://t.co/xhtmVXOPNh|  Irrelevant\n",
      "\n",
      "3471|  2|  Os entendidos entenderão...  . . #bolsonaro #bolsonaro2022 #bolsonaropresidente ...  https://t.co/KLRLy5THyo  https://t.co/CZcz7ejeoF|  Irrelevant\n",
      "\n",
      "3610|  2|  @xicosa @zico_mengo @Dahwache5 @DJWALMIR @sr_nepomuceno @WAGNERJOSRODRIG @adrianaosantos @fraternit123 @domblackeyes @d_mhg @Kakapassos @cewcilya @WillJosemir @EdCruz38273764 @Guerraitanhaem @nzmendes1 @grandesol2016 @Edufssilva @maurocshow @ahinamendez @marcao1959 @cvaguiar @vpirajucara @subeida1 @d_mhg2014 @GisseleSilvs @H_Nellim @wilaneidemorais @AngelaMGonalve1 @ivaniguerreiro @danianedojo @LuciaCa86838545 @MarceloFreixo @jairbolsonaro @JornalOGlobo @alexandregarcia @Biakicis @jose_simao @JanainaDoBrasil @albaexpider @Rconstantino @CarlaZambelli38 @caioblinder @GugaNoblat @psol50 @lhmandetta @LulaOficial @inst_lula @gleisi A VIVO @vivobr tá de sacanagem? Ela faz uma promessa na ANATEL e não cumpre, e não consegui protocolo novo! Proporcional a 12 dias de conta antiga de R$ 59.90 por mês é R$ 68,72? Ou sou analfabeto? A VIVO NÃO ME ATENDE POR TELEFONE E NEM ME DÁ PROTOCOLO NOVO!  https://t.co/b6DhVhbAN1|  Irrelevant\n",
      "\n"
     ]
    }
   ],
   "source": [
    "for i in sorted(range(len(communities[1])), key=lambda x: len(set(communities[1]).intersection(communities.graph.neighborhood(communities[1][x]))), reverse=True):\n",
    "    degree = len(set(communities[1]).intersection(communities.graph.neighborhood(communities[1][i])))\n",
    "    print(communities[1][i], degree, df1.iloc[communities[1][i]]['text'], df1.iloc[communities[1][i]]['img_label'],  sep='|  ')\n",
    "    print()"
   ]
  },
  {
   "cell_type": "code",
   "execution_count": 109,
   "id": "consolidated-christmas",
   "metadata": {},
   "outputs": [],
   "source": [
    "dict_stats = {}\n",
    "k = 0\n",
    "for i in range(len(communities)):\n",
    "    if not dict_stats.get(len(communities[i])):\n",
    "        dict_stats[len(communities[i])] =0\n",
    "    dict_stats[len(communities[i])] +=1"
   ]
  },
  {
   "cell_type": "code",
   "execution_count": 110,
   "id": "champion-arrow",
   "metadata": {},
   "outputs": [
    {
     "data": {
      "text/plain": [
       "{121: 1, 13: 1, 12: 1, 10: 1, 9: 1, 8: 1, 6: 1, 4: 1, 3: 7, 2: 28, 1: 3740}"
      ]
     },
     "execution_count": 110,
     "metadata": {},
     "output_type": "execute_result"
    }
   ],
   "source": [
    "dict_stats"
   ]
  },
  {
   "cell_type": "code",
   "execution_count": 178,
   "id": "fossil-degree",
   "metadata": {},
   "outputs": [
    {
     "name": "stderr",
     "output_type": "stream",
     "text": [
      "<ipython-input-178-b55b1e8672a7>:6: FutureWarning: The frame.append method is deprecated and will be removed from pandas in a future version. Use pandas.concat instead.\n",
      "  dict_stats=  dict_stats.append(df1.iloc[communities[i][j]])\n",
      "<ipython-input-178-b55b1e8672a7>:6: FutureWarning: The frame.append method is deprecated and will be removed from pandas in a future version. Use pandas.concat instead.\n",
      "  dict_stats=  dict_stats.append(df1.iloc[communities[i][j]])\n",
      "<ipython-input-178-b55b1e8672a7>:6: FutureWarning: The frame.append method is deprecated and will be removed from pandas in a future version. Use pandas.concat instead.\n",
      "  dict_stats=  dict_stats.append(df1.iloc[communities[i][j]])\n",
      "<ipython-input-178-b55b1e8672a7>:6: FutureWarning: The frame.append method is deprecated and will be removed from pandas in a future version. Use pandas.concat instead.\n",
      "  dict_stats=  dict_stats.append(df1.iloc[communities[i][j]])\n",
      "<ipython-input-178-b55b1e8672a7>:6: FutureWarning: The frame.append method is deprecated and will be removed from pandas in a future version. Use pandas.concat instead.\n",
      "  dict_stats=  dict_stats.append(df1.iloc[communities[i][j]])\n",
      "<ipython-input-178-b55b1e8672a7>:6: FutureWarning: The frame.append method is deprecated and will be removed from pandas in a future version. Use pandas.concat instead.\n",
      "  dict_stats=  dict_stats.append(df1.iloc[communities[i][j]])\n",
      "<ipython-input-178-b55b1e8672a7>:6: FutureWarning: The frame.append method is deprecated and will be removed from pandas in a future version. Use pandas.concat instead.\n",
      "  dict_stats=  dict_stats.append(df1.iloc[communities[i][j]])\n",
      "<ipython-input-178-b55b1e8672a7>:6: FutureWarning: The frame.append method is deprecated and will be removed from pandas in a future version. Use pandas.concat instead.\n",
      "  dict_stats=  dict_stats.append(df1.iloc[communities[i][j]])\n",
      "<ipython-input-178-b55b1e8672a7>:6: FutureWarning: The frame.append method is deprecated and will be removed from pandas in a future version. Use pandas.concat instead.\n",
      "  dict_stats=  dict_stats.append(df1.iloc[communities[i][j]])\n",
      "<ipython-input-178-b55b1e8672a7>:6: FutureWarning: The frame.append method is deprecated and will be removed from pandas in a future version. Use pandas.concat instead.\n",
      "  dict_stats=  dict_stats.append(df1.iloc[communities[i][j]])\n",
      "<ipython-input-178-b55b1e8672a7>:6: FutureWarning: The frame.append method is deprecated and will be removed from pandas in a future version. Use pandas.concat instead.\n",
      "  dict_stats=  dict_stats.append(df1.iloc[communities[i][j]])\n",
      "<ipython-input-178-b55b1e8672a7>:6: FutureWarning: The frame.append method is deprecated and will be removed from pandas in a future version. Use pandas.concat instead.\n",
      "  dict_stats=  dict_stats.append(df1.iloc[communities[i][j]])\n",
      "<ipython-input-178-b55b1e8672a7>:6: FutureWarning: The frame.append method is deprecated and will be removed from pandas in a future version. Use pandas.concat instead.\n",
      "  dict_stats=  dict_stats.append(df1.iloc[communities[i][j]])\n",
      "<ipython-input-178-b55b1e8672a7>:6: FutureWarning: The frame.append method is deprecated and will be removed from pandas in a future version. Use pandas.concat instead.\n",
      "  dict_stats=  dict_stats.append(df1.iloc[communities[i][j]])\n",
      "<ipython-input-178-b55b1e8672a7>:6: FutureWarning: The frame.append method is deprecated and will be removed from pandas in a future version. Use pandas.concat instead.\n",
      "  dict_stats=  dict_stats.append(df1.iloc[communities[i][j]])\n",
      "<ipython-input-178-b55b1e8672a7>:6: FutureWarning: The frame.append method is deprecated and will be removed from pandas in a future version. Use pandas.concat instead.\n",
      "  dict_stats=  dict_stats.append(df1.iloc[communities[i][j]])\n",
      "<ipython-input-178-b55b1e8672a7>:6: FutureWarning: The frame.append method is deprecated and will be removed from pandas in a future version. Use pandas.concat instead.\n",
      "  dict_stats=  dict_stats.append(df1.iloc[communities[i][j]])\n",
      "<ipython-input-178-b55b1e8672a7>:6: FutureWarning: The frame.append method is deprecated and will be removed from pandas in a future version. Use pandas.concat instead.\n",
      "  dict_stats=  dict_stats.append(df1.iloc[communities[i][j]])\n",
      "<ipython-input-178-b55b1e8672a7>:6: FutureWarning: The frame.append method is deprecated and will be removed from pandas in a future version. Use pandas.concat instead.\n",
      "  dict_stats=  dict_stats.append(df1.iloc[communities[i][j]])\n",
      "<ipython-input-178-b55b1e8672a7>:6: FutureWarning: The frame.append method is deprecated and will be removed from pandas in a future version. Use pandas.concat instead.\n",
      "  dict_stats=  dict_stats.append(df1.iloc[communities[i][j]])\n",
      "<ipython-input-178-b55b1e8672a7>:6: FutureWarning: The frame.append method is deprecated and will be removed from pandas in a future version. Use pandas.concat instead.\n",
      "  dict_stats=  dict_stats.append(df1.iloc[communities[i][j]])\n",
      "<ipython-input-178-b55b1e8672a7>:6: FutureWarning: The frame.append method is deprecated and will be removed from pandas in a future version. Use pandas.concat instead.\n",
      "  dict_stats=  dict_stats.append(df1.iloc[communities[i][j]])\n",
      "<ipython-input-178-b55b1e8672a7>:6: FutureWarning: The frame.append method is deprecated and will be removed from pandas in a future version. Use pandas.concat instead.\n",
      "  dict_stats=  dict_stats.append(df1.iloc[communities[i][j]])\n",
      "<ipython-input-178-b55b1e8672a7>:6: FutureWarning: The frame.append method is deprecated and will be removed from pandas in a future version. Use pandas.concat instead.\n",
      "  dict_stats=  dict_stats.append(df1.iloc[communities[i][j]])\n",
      "<ipython-input-178-b55b1e8672a7>:6: FutureWarning: The frame.append method is deprecated and will be removed from pandas in a future version. Use pandas.concat instead.\n",
      "  dict_stats=  dict_stats.append(df1.iloc[communities[i][j]])\n",
      "<ipython-input-178-b55b1e8672a7>:6: FutureWarning: The frame.append method is deprecated and will be removed from pandas in a future version. Use pandas.concat instead.\n",
      "  dict_stats=  dict_stats.append(df1.iloc[communities[i][j]])\n",
      "<ipython-input-178-b55b1e8672a7>:6: FutureWarning: The frame.append method is deprecated and will be removed from pandas in a future version. Use pandas.concat instead.\n",
      "  dict_stats=  dict_stats.append(df1.iloc[communities[i][j]])\n",
      "<ipython-input-178-b55b1e8672a7>:6: FutureWarning: The frame.append method is deprecated and will be removed from pandas in a future version. Use pandas.concat instead.\n",
      "  dict_stats=  dict_stats.append(df1.iloc[communities[i][j]])\n",
      "<ipython-input-178-b55b1e8672a7>:6: FutureWarning: The frame.append method is deprecated and will be removed from pandas in a future version. Use pandas.concat instead.\n",
      "  dict_stats=  dict_stats.append(df1.iloc[communities[i][j]])\n",
      "<ipython-input-178-b55b1e8672a7>:6: FutureWarning: The frame.append method is deprecated and will be removed from pandas in a future version. Use pandas.concat instead.\n",
      "  dict_stats=  dict_stats.append(df1.iloc[communities[i][j]])\n",
      "<ipython-input-178-b55b1e8672a7>:6: FutureWarning: The frame.append method is deprecated and will be removed from pandas in a future version. Use pandas.concat instead.\n",
      "  dict_stats=  dict_stats.append(df1.iloc[communities[i][j]])\n",
      "<ipython-input-178-b55b1e8672a7>:6: FutureWarning: The frame.append method is deprecated and will be removed from pandas in a future version. Use pandas.concat instead.\n",
      "  dict_stats=  dict_stats.append(df1.iloc[communities[i][j]])\n",
      "<ipython-input-178-b55b1e8672a7>:6: FutureWarning: The frame.append method is deprecated and will be removed from pandas in a future version. Use pandas.concat instead.\n",
      "  dict_stats=  dict_stats.append(df1.iloc[communities[i][j]])\n",
      "<ipython-input-178-b55b1e8672a7>:6: FutureWarning: The frame.append method is deprecated and will be removed from pandas in a future version. Use pandas.concat instead.\n",
      "  dict_stats=  dict_stats.append(df1.iloc[communities[i][j]])\n",
      "<ipython-input-178-b55b1e8672a7>:6: FutureWarning: The frame.append method is deprecated and will be removed from pandas in a future version. Use pandas.concat instead.\n",
      "  dict_stats=  dict_stats.append(df1.iloc[communities[i][j]])\n",
      "<ipython-input-178-b55b1e8672a7>:6: FutureWarning: The frame.append method is deprecated and will be removed from pandas in a future version. Use pandas.concat instead.\n",
      "  dict_stats=  dict_stats.append(df1.iloc[communities[i][j]])\n",
      "<ipython-input-178-b55b1e8672a7>:6: FutureWarning: The frame.append method is deprecated and will be removed from pandas in a future version. Use pandas.concat instead.\n",
      "  dict_stats=  dict_stats.append(df1.iloc[communities[i][j]])\n",
      "<ipython-input-178-b55b1e8672a7>:6: FutureWarning: The frame.append method is deprecated and will be removed from pandas in a future version. Use pandas.concat instead.\n",
      "  dict_stats=  dict_stats.append(df1.iloc[communities[i][j]])\n",
      "<ipython-input-178-b55b1e8672a7>:6: FutureWarning: The frame.append method is deprecated and will be removed from pandas in a future version. Use pandas.concat instead.\n",
      "  dict_stats=  dict_stats.append(df1.iloc[communities[i][j]])\n",
      "<ipython-input-178-b55b1e8672a7>:6: FutureWarning: The frame.append method is deprecated and will be removed from pandas in a future version. Use pandas.concat instead.\n",
      "  dict_stats=  dict_stats.append(df1.iloc[communities[i][j]])\n",
      "<ipython-input-178-b55b1e8672a7>:6: FutureWarning: The frame.append method is deprecated and will be removed from pandas in a future version. Use pandas.concat instead.\n",
      "  dict_stats=  dict_stats.append(df1.iloc[communities[i][j]])\n",
      "<ipython-input-178-b55b1e8672a7>:6: FutureWarning: The frame.append method is deprecated and will be removed from pandas in a future version. Use pandas.concat instead.\n",
      "  dict_stats=  dict_stats.append(df1.iloc[communities[i][j]])\n",
      "<ipython-input-178-b55b1e8672a7>:6: FutureWarning: The frame.append method is deprecated and will be removed from pandas in a future version. Use pandas.concat instead.\n",
      "  dict_stats=  dict_stats.append(df1.iloc[communities[i][j]])\n",
      "<ipython-input-178-b55b1e8672a7>:6: FutureWarning: The frame.append method is deprecated and will be removed from pandas in a future version. Use pandas.concat instead.\n",
      "  dict_stats=  dict_stats.append(df1.iloc[communities[i][j]])\n",
      "<ipython-input-178-b55b1e8672a7>:6: FutureWarning: The frame.append method is deprecated and will be removed from pandas in a future version. Use pandas.concat instead.\n",
      "  dict_stats=  dict_stats.append(df1.iloc[communities[i][j]])\n",
      "<ipython-input-178-b55b1e8672a7>:6: FutureWarning: The frame.append method is deprecated and will be removed from pandas in a future version. Use pandas.concat instead.\n",
      "  dict_stats=  dict_stats.append(df1.iloc[communities[i][j]])\n",
      "<ipython-input-178-b55b1e8672a7>:6: FutureWarning: The frame.append method is deprecated and will be removed from pandas in a future version. Use pandas.concat instead.\n",
      "  dict_stats=  dict_stats.append(df1.iloc[communities[i][j]])\n",
      "<ipython-input-178-b55b1e8672a7>:6: FutureWarning: The frame.append method is deprecated and will be removed from pandas in a future version. Use pandas.concat instead.\n",
      "  dict_stats=  dict_stats.append(df1.iloc[communities[i][j]])\n",
      "<ipython-input-178-b55b1e8672a7>:6: FutureWarning: The frame.append method is deprecated and will be removed from pandas in a future version. Use pandas.concat instead.\n",
      "  dict_stats=  dict_stats.append(df1.iloc[communities[i][j]])\n",
      "<ipython-input-178-b55b1e8672a7>:6: FutureWarning: The frame.append method is deprecated and will be removed from pandas in a future version. Use pandas.concat instead.\n",
      "  dict_stats=  dict_stats.append(df1.iloc[communities[i][j]])\n",
      "<ipython-input-178-b55b1e8672a7>:6: FutureWarning: The frame.append method is deprecated and will be removed from pandas in a future version. Use pandas.concat instead.\n",
      "  dict_stats=  dict_stats.append(df1.iloc[communities[i][j]])\n",
      "<ipython-input-178-b55b1e8672a7>:6: FutureWarning: The frame.append method is deprecated and will be removed from pandas in a future version. Use pandas.concat instead.\n",
      "  dict_stats=  dict_stats.append(df1.iloc[communities[i][j]])\n"
     ]
    },
    {
     "name": "stderr",
     "output_type": "stream",
     "text": [
      "<ipython-input-178-b55b1e8672a7>:6: FutureWarning: The frame.append method is deprecated and will be removed from pandas in a future version. Use pandas.concat instead.\n",
      "  dict_stats=  dict_stats.append(df1.iloc[communities[i][j]])\n",
      "<ipython-input-178-b55b1e8672a7>:6: FutureWarning: The frame.append method is deprecated and will be removed from pandas in a future version. Use pandas.concat instead.\n",
      "  dict_stats=  dict_stats.append(df1.iloc[communities[i][j]])\n",
      "<ipython-input-178-b55b1e8672a7>:6: FutureWarning: The frame.append method is deprecated and will be removed from pandas in a future version. Use pandas.concat instead.\n",
      "  dict_stats=  dict_stats.append(df1.iloc[communities[i][j]])\n",
      "<ipython-input-178-b55b1e8672a7>:6: FutureWarning: The frame.append method is deprecated and will be removed from pandas in a future version. Use pandas.concat instead.\n",
      "  dict_stats=  dict_stats.append(df1.iloc[communities[i][j]])\n",
      "<ipython-input-178-b55b1e8672a7>:6: FutureWarning: The frame.append method is deprecated and will be removed from pandas in a future version. Use pandas.concat instead.\n",
      "  dict_stats=  dict_stats.append(df1.iloc[communities[i][j]])\n",
      "<ipython-input-178-b55b1e8672a7>:6: FutureWarning: The frame.append method is deprecated and will be removed from pandas in a future version. Use pandas.concat instead.\n",
      "  dict_stats=  dict_stats.append(df1.iloc[communities[i][j]])\n",
      "<ipython-input-178-b55b1e8672a7>:6: FutureWarning: The frame.append method is deprecated and will be removed from pandas in a future version. Use pandas.concat instead.\n",
      "  dict_stats=  dict_stats.append(df1.iloc[communities[i][j]])\n",
      "<ipython-input-178-b55b1e8672a7>:6: FutureWarning: The frame.append method is deprecated and will be removed from pandas in a future version. Use pandas.concat instead.\n",
      "  dict_stats=  dict_stats.append(df1.iloc[communities[i][j]])\n",
      "<ipython-input-178-b55b1e8672a7>:6: FutureWarning: The frame.append method is deprecated and will be removed from pandas in a future version. Use pandas.concat instead.\n",
      "  dict_stats=  dict_stats.append(df1.iloc[communities[i][j]])\n",
      "<ipython-input-178-b55b1e8672a7>:6: FutureWarning: The frame.append method is deprecated and will be removed from pandas in a future version. Use pandas.concat instead.\n",
      "  dict_stats=  dict_stats.append(df1.iloc[communities[i][j]])\n",
      "<ipython-input-178-b55b1e8672a7>:6: FutureWarning: The frame.append method is deprecated and will be removed from pandas in a future version. Use pandas.concat instead.\n",
      "  dict_stats=  dict_stats.append(df1.iloc[communities[i][j]])\n",
      "<ipython-input-178-b55b1e8672a7>:6: FutureWarning: The frame.append method is deprecated and will be removed from pandas in a future version. Use pandas.concat instead.\n",
      "  dict_stats=  dict_stats.append(df1.iloc[communities[i][j]])\n",
      "<ipython-input-178-b55b1e8672a7>:6: FutureWarning: The frame.append method is deprecated and will be removed from pandas in a future version. Use pandas.concat instead.\n",
      "  dict_stats=  dict_stats.append(df1.iloc[communities[i][j]])\n",
      "<ipython-input-178-b55b1e8672a7>:6: FutureWarning: The frame.append method is deprecated and will be removed from pandas in a future version. Use pandas.concat instead.\n",
      "  dict_stats=  dict_stats.append(df1.iloc[communities[i][j]])\n",
      "<ipython-input-178-b55b1e8672a7>:6: FutureWarning: The frame.append method is deprecated and will be removed from pandas in a future version. Use pandas.concat instead.\n",
      "  dict_stats=  dict_stats.append(df1.iloc[communities[i][j]])\n",
      "<ipython-input-178-b55b1e8672a7>:6: FutureWarning: The frame.append method is deprecated and will be removed from pandas in a future version. Use pandas.concat instead.\n",
      "  dict_stats=  dict_stats.append(df1.iloc[communities[i][j]])\n",
      "<ipython-input-178-b55b1e8672a7>:6: FutureWarning: The frame.append method is deprecated and will be removed from pandas in a future version. Use pandas.concat instead.\n",
      "  dict_stats=  dict_stats.append(df1.iloc[communities[i][j]])\n",
      "<ipython-input-178-b55b1e8672a7>:6: FutureWarning: The frame.append method is deprecated and will be removed from pandas in a future version. Use pandas.concat instead.\n",
      "  dict_stats=  dict_stats.append(df1.iloc[communities[i][j]])\n",
      "<ipython-input-178-b55b1e8672a7>:6: FutureWarning: The frame.append method is deprecated and will be removed from pandas in a future version. Use pandas.concat instead.\n",
      "  dict_stats=  dict_stats.append(df1.iloc[communities[i][j]])\n",
      "<ipython-input-178-b55b1e8672a7>:6: FutureWarning: The frame.append method is deprecated and will be removed from pandas in a future version. Use pandas.concat instead.\n",
      "  dict_stats=  dict_stats.append(df1.iloc[communities[i][j]])\n",
      "<ipython-input-178-b55b1e8672a7>:6: FutureWarning: The frame.append method is deprecated and will be removed from pandas in a future version. Use pandas.concat instead.\n",
      "  dict_stats=  dict_stats.append(df1.iloc[communities[i][j]])\n",
      "<ipython-input-178-b55b1e8672a7>:6: FutureWarning: The frame.append method is deprecated and will be removed from pandas in a future version. Use pandas.concat instead.\n",
      "  dict_stats=  dict_stats.append(df1.iloc[communities[i][j]])\n",
      "<ipython-input-178-b55b1e8672a7>:6: FutureWarning: The frame.append method is deprecated and will be removed from pandas in a future version. Use pandas.concat instead.\n",
      "  dict_stats=  dict_stats.append(df1.iloc[communities[i][j]])\n",
      "<ipython-input-178-b55b1e8672a7>:6: FutureWarning: The frame.append method is deprecated and will be removed from pandas in a future version. Use pandas.concat instead.\n",
      "  dict_stats=  dict_stats.append(df1.iloc[communities[i][j]])\n",
      "<ipython-input-178-b55b1e8672a7>:6: FutureWarning: The frame.append method is deprecated and will be removed from pandas in a future version. Use pandas.concat instead.\n",
      "  dict_stats=  dict_stats.append(df1.iloc[communities[i][j]])\n",
      "<ipython-input-178-b55b1e8672a7>:6: FutureWarning: The frame.append method is deprecated and will be removed from pandas in a future version. Use pandas.concat instead.\n",
      "  dict_stats=  dict_stats.append(df1.iloc[communities[i][j]])\n",
      "<ipython-input-178-b55b1e8672a7>:6: FutureWarning: The frame.append method is deprecated and will be removed from pandas in a future version. Use pandas.concat instead.\n",
      "  dict_stats=  dict_stats.append(df1.iloc[communities[i][j]])\n",
      "<ipython-input-178-b55b1e8672a7>:6: FutureWarning: The frame.append method is deprecated and will be removed from pandas in a future version. Use pandas.concat instead.\n",
      "  dict_stats=  dict_stats.append(df1.iloc[communities[i][j]])\n",
      "<ipython-input-178-b55b1e8672a7>:6: FutureWarning: The frame.append method is deprecated and will be removed from pandas in a future version. Use pandas.concat instead.\n",
      "  dict_stats=  dict_stats.append(df1.iloc[communities[i][j]])\n",
      "<ipython-input-178-b55b1e8672a7>:6: FutureWarning: The frame.append method is deprecated and will be removed from pandas in a future version. Use pandas.concat instead.\n",
      "  dict_stats=  dict_stats.append(df1.iloc[communities[i][j]])\n",
      "<ipython-input-178-b55b1e8672a7>:6: FutureWarning: The frame.append method is deprecated and will be removed from pandas in a future version. Use pandas.concat instead.\n",
      "  dict_stats=  dict_stats.append(df1.iloc[communities[i][j]])\n",
      "<ipython-input-178-b55b1e8672a7>:6: FutureWarning: The frame.append method is deprecated and will be removed from pandas in a future version. Use pandas.concat instead.\n",
      "  dict_stats=  dict_stats.append(df1.iloc[communities[i][j]])\n",
      "<ipython-input-178-b55b1e8672a7>:6: FutureWarning: The frame.append method is deprecated and will be removed from pandas in a future version. Use pandas.concat instead.\n",
      "  dict_stats=  dict_stats.append(df1.iloc[communities[i][j]])\n",
      "<ipython-input-178-b55b1e8672a7>:6: FutureWarning: The frame.append method is deprecated and will be removed from pandas in a future version. Use pandas.concat instead.\n",
      "  dict_stats=  dict_stats.append(df1.iloc[communities[i][j]])\n",
      "<ipython-input-178-b55b1e8672a7>:6: FutureWarning: The frame.append method is deprecated and will be removed from pandas in a future version. Use pandas.concat instead.\n",
      "  dict_stats=  dict_stats.append(df1.iloc[communities[i][j]])\n",
      "<ipython-input-178-b55b1e8672a7>:6: FutureWarning: The frame.append method is deprecated and will be removed from pandas in a future version. Use pandas.concat instead.\n",
      "  dict_stats=  dict_stats.append(df1.iloc[communities[i][j]])\n",
      "<ipython-input-178-b55b1e8672a7>:6: FutureWarning: The frame.append method is deprecated and will be removed from pandas in a future version. Use pandas.concat instead.\n",
      "  dict_stats=  dict_stats.append(df1.iloc[communities[i][j]])\n",
      "<ipython-input-178-b55b1e8672a7>:6: FutureWarning: The frame.append method is deprecated and will be removed from pandas in a future version. Use pandas.concat instead.\n",
      "  dict_stats=  dict_stats.append(df1.iloc[communities[i][j]])\n"
     ]
    },
    {
     "name": "stderr",
     "output_type": "stream",
     "text": [
      "<ipython-input-178-b55b1e8672a7>:6: FutureWarning: The frame.append method is deprecated and will be removed from pandas in a future version. Use pandas.concat instead.\n",
      "  dict_stats=  dict_stats.append(df1.iloc[communities[i][j]])\n",
      "<ipython-input-178-b55b1e8672a7>:6: FutureWarning: The frame.append method is deprecated and will be removed from pandas in a future version. Use pandas.concat instead.\n",
      "  dict_stats=  dict_stats.append(df1.iloc[communities[i][j]])\n",
      "<ipython-input-178-b55b1e8672a7>:6: FutureWarning: The frame.append method is deprecated and will be removed from pandas in a future version. Use pandas.concat instead.\n",
      "  dict_stats=  dict_stats.append(df1.iloc[communities[i][j]])\n",
      "<ipython-input-178-b55b1e8672a7>:6: FutureWarning: The frame.append method is deprecated and will be removed from pandas in a future version. Use pandas.concat instead.\n",
      "  dict_stats=  dict_stats.append(df1.iloc[communities[i][j]])\n",
      "<ipython-input-178-b55b1e8672a7>:6: FutureWarning: The frame.append method is deprecated and will be removed from pandas in a future version. Use pandas.concat instead.\n",
      "  dict_stats=  dict_stats.append(df1.iloc[communities[i][j]])\n",
      "<ipython-input-178-b55b1e8672a7>:6: FutureWarning: The frame.append method is deprecated and will be removed from pandas in a future version. Use pandas.concat instead.\n",
      "  dict_stats=  dict_stats.append(df1.iloc[communities[i][j]])\n",
      "<ipython-input-178-b55b1e8672a7>:6: FutureWarning: The frame.append method is deprecated and will be removed from pandas in a future version. Use pandas.concat instead.\n",
      "  dict_stats=  dict_stats.append(df1.iloc[communities[i][j]])\n",
      "<ipython-input-178-b55b1e8672a7>:6: FutureWarning: The frame.append method is deprecated and will be removed from pandas in a future version. Use pandas.concat instead.\n",
      "  dict_stats=  dict_stats.append(df1.iloc[communities[i][j]])\n",
      "<ipython-input-178-b55b1e8672a7>:6: FutureWarning: The frame.append method is deprecated and will be removed from pandas in a future version. Use pandas.concat instead.\n",
      "  dict_stats=  dict_stats.append(df1.iloc[communities[i][j]])\n",
      "<ipython-input-178-b55b1e8672a7>:6: FutureWarning: The frame.append method is deprecated and will be removed from pandas in a future version. Use pandas.concat instead.\n",
      "  dict_stats=  dict_stats.append(df1.iloc[communities[i][j]])\n",
      "<ipython-input-178-b55b1e8672a7>:6: FutureWarning: The frame.append method is deprecated and will be removed from pandas in a future version. Use pandas.concat instead.\n",
      "  dict_stats=  dict_stats.append(df1.iloc[communities[i][j]])\n",
      "<ipython-input-178-b55b1e8672a7>:6: FutureWarning: The frame.append method is deprecated and will be removed from pandas in a future version. Use pandas.concat instead.\n",
      "  dict_stats=  dict_stats.append(df1.iloc[communities[i][j]])\n",
      "<ipython-input-178-b55b1e8672a7>:6: FutureWarning: The frame.append method is deprecated and will be removed from pandas in a future version. Use pandas.concat instead.\n",
      "  dict_stats=  dict_stats.append(df1.iloc[communities[i][j]])\n",
      "<ipython-input-178-b55b1e8672a7>:6: FutureWarning: The frame.append method is deprecated and will be removed from pandas in a future version. Use pandas.concat instead.\n",
      "  dict_stats=  dict_stats.append(df1.iloc[communities[i][j]])\n",
      "<ipython-input-178-b55b1e8672a7>:6: FutureWarning: The frame.append method is deprecated and will be removed from pandas in a future version. Use pandas.concat instead.\n",
      "  dict_stats=  dict_stats.append(df1.iloc[communities[i][j]])\n",
      "<ipython-input-178-b55b1e8672a7>:6: FutureWarning: The frame.append method is deprecated and will be removed from pandas in a future version. Use pandas.concat instead.\n",
      "  dict_stats=  dict_stats.append(df1.iloc[communities[i][j]])\n",
      "<ipython-input-178-b55b1e8672a7>:6: FutureWarning: The frame.append method is deprecated and will be removed from pandas in a future version. Use pandas.concat instead.\n",
      "  dict_stats=  dict_stats.append(df1.iloc[communities[i][j]])\n",
      "<ipython-input-178-b55b1e8672a7>:6: FutureWarning: The frame.append method is deprecated and will be removed from pandas in a future version. Use pandas.concat instead.\n",
      "  dict_stats=  dict_stats.append(df1.iloc[communities[i][j]])\n",
      "<ipython-input-178-b55b1e8672a7>:6: FutureWarning: The frame.append method is deprecated and will be removed from pandas in a future version. Use pandas.concat instead.\n",
      "  dict_stats=  dict_stats.append(df1.iloc[communities[i][j]])\n",
      "<ipython-input-178-b55b1e8672a7>:6: FutureWarning: The frame.append method is deprecated and will be removed from pandas in a future version. Use pandas.concat instead.\n",
      "  dict_stats=  dict_stats.append(df1.iloc[communities[i][j]])\n",
      "<ipython-input-178-b55b1e8672a7>:6: FutureWarning: The frame.append method is deprecated and will be removed from pandas in a future version. Use pandas.concat instead.\n",
      "  dict_stats=  dict_stats.append(df1.iloc[communities[i][j]])\n",
      "<ipython-input-178-b55b1e8672a7>:6: FutureWarning: The frame.append method is deprecated and will be removed from pandas in a future version. Use pandas.concat instead.\n",
      "  dict_stats=  dict_stats.append(df1.iloc[communities[i][j]])\n",
      "<ipython-input-178-b55b1e8672a7>:6: FutureWarning: The frame.append method is deprecated and will be removed from pandas in a future version. Use pandas.concat instead.\n",
      "  dict_stats=  dict_stats.append(df1.iloc[communities[i][j]])\n",
      "<ipython-input-178-b55b1e8672a7>:6: FutureWarning: The frame.append method is deprecated and will be removed from pandas in a future version. Use pandas.concat instead.\n",
      "  dict_stats=  dict_stats.append(df1.iloc[communities[i][j]])\n",
      "<ipython-input-178-b55b1e8672a7>:6: FutureWarning: The frame.append method is deprecated and will be removed from pandas in a future version. Use pandas.concat instead.\n",
      "  dict_stats=  dict_stats.append(df1.iloc[communities[i][j]])\n",
      "<ipython-input-178-b55b1e8672a7>:6: FutureWarning: The frame.append method is deprecated and will be removed from pandas in a future version. Use pandas.concat instead.\n",
      "  dict_stats=  dict_stats.append(df1.iloc[communities[i][j]])\n",
      "<ipython-input-178-b55b1e8672a7>:6: FutureWarning: The frame.append method is deprecated and will be removed from pandas in a future version. Use pandas.concat instead.\n",
      "  dict_stats=  dict_stats.append(df1.iloc[communities[i][j]])\n",
      "<ipython-input-178-b55b1e8672a7>:6: FutureWarning: The frame.append method is deprecated and will be removed from pandas in a future version. Use pandas.concat instead.\n",
      "  dict_stats=  dict_stats.append(df1.iloc[communities[i][j]])\n",
      "<ipython-input-178-b55b1e8672a7>:6: FutureWarning: The frame.append method is deprecated and will be removed from pandas in a future version. Use pandas.concat instead.\n",
      "  dict_stats=  dict_stats.append(df1.iloc[communities[i][j]])\n",
      "<ipython-input-178-b55b1e8672a7>:6: FutureWarning: The frame.append method is deprecated and will be removed from pandas in a future version. Use pandas.concat instead.\n",
      "  dict_stats=  dict_stats.append(df1.iloc[communities[i][j]])\n",
      "<ipython-input-178-b55b1e8672a7>:6: FutureWarning: The frame.append method is deprecated and will be removed from pandas in a future version. Use pandas.concat instead.\n",
      "  dict_stats=  dict_stats.append(df1.iloc[communities[i][j]])\n"
     ]
    }
   ],
   "source": [
    "dict_stats = pd.DataFrame()\n",
    "k = 0\n",
    "for i in range(len(communities)):\n",
    "    if len(communities[i]) == 121 :\n",
    "        for j in range(121):\n",
    "            dict_stats=  dict_stats.append(df1.iloc[communities[i][j]])"
   ]
  },
  {
   "cell_type": "code",
   "execution_count": 150,
   "id": "medieval-triple",
   "metadata": {},
   "outputs": [
    {
     "data": {
      "text/html": [
       "<div>\n",
       "<style scoped>\n",
       "    .dataframe tbody tr th:only-of-type {\n",
       "        vertical-align: middle;\n",
       "    }\n",
       "\n",
       "    .dataframe tbody tr th {\n",
       "        vertical-align: top;\n",
       "    }\n",
       "\n",
       "    .dataframe thead th {\n",
       "        text-align: right;\n",
       "    }\n",
       "</style>\n",
       "<table border=\"1\" class=\"dataframe\">\n",
       "  <thead>\n",
       "    <tr style=\"text-align: right;\">\n",
       "      <th></th>\n",
       "      <th>img_label</th>\n",
       "      <th>txt_label</th>\n",
       "    </tr>\n",
       "  </thead>\n",
       "  <tbody>\n",
       "    <tr>\n",
       "      <th>count</th>\n",
       "      <td>3740</td>\n",
       "      <td>3740</td>\n",
       "    </tr>\n",
       "    <tr>\n",
       "      <th>unique</th>\n",
       "      <td>4</td>\n",
       "      <td>4</td>\n",
       "    </tr>\n",
       "    <tr>\n",
       "      <th>top</th>\n",
       "      <td>Irrelevant</td>\n",
       "      <td>Irrelevant</td>\n",
       "    </tr>\n",
       "    <tr>\n",
       "      <th>freq</th>\n",
       "      <td>2770</td>\n",
       "      <td>2267</td>\n",
       "    </tr>\n",
       "  </tbody>\n",
       "</table>\n",
       "</div>"
      ],
      "text/plain": [
       "         img_label   txt_label\n",
       "count         3740        3740\n",
       "unique           4           4\n",
       "top     Irrelevant  Irrelevant\n",
       "freq          2770        2267"
      ]
     },
     "execution_count": 150,
     "metadata": {},
     "output_type": "execute_result"
    }
   ],
   "source": [
    "dict_stats[['img_label','txt_label']].describe()"
   ]
  },
  {
   "cell_type": "code",
   "execution_count": 165,
   "id": "sufficient-effectiveness",
   "metadata": {},
   "outputs": [
    {
     "ename": "AttributeError",
     "evalue": "'DataFrame' object has no attribute 'countt_values'",
     "output_type": "error",
     "traceback": [
      "\u001b[0;31m---------------------------------------------------------------------------\u001b[0m",
      "\u001b[0;31mAttributeError\u001b[0m                            Traceback (most recent call last)",
      "\u001b[0;32m<ipython-input-165-1e76d83d396d>\u001b[0m in \u001b[0;36m<module>\u001b[0;34m\u001b[0m\n\u001b[0;32m----> 1\u001b[0;31m \u001b[0mdf1\u001b[0m\u001b[0;34m[\u001b[0m\u001b[0;34m[\u001b[0m\u001b[0;34m'img_label'\u001b[0m\u001b[0;34m,\u001b[0m\u001b[0;34m'txt_label'\u001b[0m\u001b[0;34m]\u001b[0m\u001b[0;34m]\u001b[0m\u001b[0;34m.\u001b[0m\u001b[0mcountt_values\u001b[0m\u001b[0;34m\u001b[0m\u001b[0;34m\u001b[0m\u001b[0m\n\u001b[0m",
      "\u001b[0;32m~/miniconda3/envs/russiawar/lib/python3.8/site-packages/pandas/core/generic.py\u001b[0m in \u001b[0;36m__getattr__\u001b[0;34m(self, name)\u001b[0m\n\u001b[1;32m   5581\u001b[0m         ):\n\u001b[1;32m   5582\u001b[0m             \u001b[0;32mreturn\u001b[0m \u001b[0mself\u001b[0m\u001b[0;34m[\u001b[0m\u001b[0mname\u001b[0m\u001b[0;34m]\u001b[0m\u001b[0;34m\u001b[0m\u001b[0;34m\u001b[0m\u001b[0m\n\u001b[0;32m-> 5583\u001b[0;31m         \u001b[0;32mreturn\u001b[0m \u001b[0mobject\u001b[0m\u001b[0;34m.\u001b[0m\u001b[0m__getattribute__\u001b[0m\u001b[0;34m(\u001b[0m\u001b[0mself\u001b[0m\u001b[0;34m,\u001b[0m \u001b[0mname\u001b[0m\u001b[0;34m)\u001b[0m\u001b[0;34m\u001b[0m\u001b[0;34m\u001b[0m\u001b[0m\n\u001b[0m\u001b[1;32m   5584\u001b[0m \u001b[0;34m\u001b[0m\u001b[0m\n\u001b[1;32m   5585\u001b[0m     \u001b[0;32mdef\u001b[0m \u001b[0m__setattr__\u001b[0m\u001b[0;34m(\u001b[0m\u001b[0mself\u001b[0m\u001b[0;34m,\u001b[0m \u001b[0mname\u001b[0m\u001b[0;34m:\u001b[0m \u001b[0mstr\u001b[0m\u001b[0;34m,\u001b[0m \u001b[0mvalue\u001b[0m\u001b[0;34m)\u001b[0m \u001b[0;34m->\u001b[0m \u001b[0;32mNone\u001b[0m\u001b[0;34m:\u001b[0m\u001b[0;34m\u001b[0m\u001b[0;34m\u001b[0m\u001b[0m\n",
      "\u001b[0;31mAttributeError\u001b[0m: 'DataFrame' object has no attribute 'countt_values'"
     ]
    }
   ],
   "source": [
    "df1[['img_label','txt_label']].countt_values"
   ]
  },
  {
   "cell_type": "code",
   "execution_count": 179,
   "id": "finished-taste",
   "metadata": {},
   "outputs": [
    {
     "data": {
      "text/plain": [
       "<AxesSubplot:xlabel='img_label,txt_label'>"
      ]
     },
     "execution_count": 179,
     "metadata": {},
     "output_type": "execute_result"
    },
    {
     "data": {
      "image/png": "[encoded data removed]",
      "text/plain": [
       "<Figure size 720x720 with 1 Axes>"
      ]
     },
     "metadata": {
      "needs_background": "light"
     },
     "output_type": "display_data"
    }
   ],
   "source": [
    "plt.figure(figsize=(10,10))\n",
    "dict_stats[['img_label','txt_label']].value_counts().plot(kind='bar')"
   ]
  },
  {
   "cell_type": "code",
   "execution_count": 182,
   "id": "aging-notice",
   "metadata": {},
   "outputs": [
    {
     "name": "stdout",
     "output_type": "stream",
     "text": [
      "@anonymousBROF best manda isso pro bolsonaro  https://t.co/A3hanyRV3q Relevant (Related)\n",
      "\n",
      "CYSS invites you to join  Online classes for MA, MPHIL, PHD for DU and JNU entrance exam 2021-2022 Topic -  Revision Classes for Political Science Part I - Political Theory Date -  7/09/2021 Time - 4:00-6:00 pm Google meet link  https://t.co/lPXxhicquA  https://t.co/U9NEtM6HRm Irrelevant\n",
      "\n",
      "i don’t normally do this but i really need y’all to go block and report, don’t even engage with them  https://t.co/zb9HeIUOX2 Irrelevant\n",
      "\n",
      "@EmliaTeixeira13 @guimaraes13PT Lista da rachadinha do Queiroz o lider ptista o lula emcionou bem seus discípulos!  https://t.co/Y9uMWk41E2 Irrelevant\n",
      "\n",
      "@_danielaabade As manifestações e o golpe esvaíram-se num pum amarelo do palhaço Bolsonaro. A única invasão foi da Esplanada. Não resistiram à grama.  https://t.co/NnPvBmU8OH Relevant (Informative)\n",
      "\n",
      "Esquerda contra a liberdade de expressão ➡️➡️➡️➡️➡️➡️⬇️  https://t.co/aUWe7dtRi3 Irrelevant\n",
      "\n",
      "7. chills pt. 2  https://t.co/nPxB4KL3bw Irrelevant\n",
      "\n",
      "@tuliovsb @YcaroFOliveira @heloakamulher @tesoureiros Vc está negando um fato. O MBL e o VPR são oposição a muito tempo e como disse são tratados como comunistas pela claque bolsonarista justamente por defender seu afastamento. São tão bolsonaristas que pedem impeachment e são atacados por eles.  https://t.co/gF7kenjxme Relevant (Related)\n",
      "\n",
      "@alexandre Ministro frouxo e acovardado, pau mandado de Temer e Bolsonaro  https://t.co/veYzIAAqRh Irrelevant\n",
      "\n",
      "☀️GULFSTREAM PARK☀️📉stk 3,3📉  ☀️domingo #12Sep☀️  📌4ta 3-CALIDAD  #LaRinconada #5y6 #PoolDe4 #NYRA #DelMar #Gulfstream #Hipismo #Hipica #Picks #BestBet #Caracas #Miami #Venezuela  https://t.co/HWJwr2RV8F Irrelevant\n",
      "\n",
      "Mas fique tranquila, para os membros do @STF_oficial isso não importa. As “falas” de Bolsonaro são um ataque antidemocrático, mas as roubalheiras cometidas por Governadores, aparentemente não importam aos impolutos ministros do STF. Vai entender…  https://t.co/G3TWgqEUnc Relevant (Related)\n",
      "\n",
      "nobody setting that girl up.. she set herself up  https://t.co/gM4z6csHm7 Irrelevant\n",
      "\n",
      "@AnonymousCrec @anonymousBROF mds mds com isso eu o meu ip tá protegido e tals?  https://t.co/qzFbQIRb8z Irrelevant\n",
      "\n",
      "1) Bolsonaro cometeu dois erros fatais: priorizou duas cidades e definiu a expectativa de manifestantes. Dançou  https://t.co/Od24pj5u86 Relevant (Related)\n",
      "\n",
      "Vlw pela live gente....meu streamelements ta caindo toda hora e vou dar uma arrumada nisso... boa noite a todos.  https://t.co/FzBGlbr6xV Irrelevant\n",
      "\n",
      "@DaimonNil @omaiconsulivan Ninguém percebeu que o Bolsonaro está distraindo os inimigos?  https://t.co/CQdE2jtYxx Irrelevant\n",
      "\n",
      "Guys hes scamming fo sho @ummblade is a scammer, he told for this deal and when I dm him he blocks me... It's fine if he said I'll pass but then why would he block me 🤣🤣🤣 be aware and don't trade with this bozo  https://t.co/uc5zcreHgf Irrelevant\n",
      "\n",
      "Bando de fela da puta 👺  https://t.co/6Av3EKTczz Irrelevant\n",
      "\n",
      "@Callas2021 Alguem já pesquisou Pode 360 dono do poder data  ? Já viram quem são os \"articulistas\" do mesmo ?  https://t.co/oieHtEpD9E Irrelevant\n",
      "\n",
      "Lembrando que o Oriovisto é o dono \"licenciado\" da Positivo - das Urnas Eletrônicas. Ele foi do PSDB de 1999 a 2018, quando então passou para o PSDB 2.0 (Podemos) e se elegeu miraculosamente com 29,17% dos votos (😉), derrotando o senador Requião, que acabou em terceiro com 15,08  https://t.co/TMIBV6nqzQ Irrelevant\n",
      "\n",
      "“Olho pra trás, vejo a estrada que eu trilhei, mó cota. Quem teve lado a lado e quem só ficou na bota…”  Tamo em 1° com o #ManoaMano, @manobrown   Via @SpotifyBR  https://t.co/qZNbOCjEnO Irrelevant\n",
      "\n",
      "Sabe oq isso significa ? Foda-se o ensino médio, tirar nota baixa na escola não significa que vc vai ser um merda. Vc vai ser um merda na faculdade de todo jeito, mas pelo menos vai tirar nota boa.  https://t.co/Eim5GvFlQV Irrelevant\n",
      "\n",
      "@karl_malte @Metropoles o mal da ex-querda é não estudar, Lula já disse que é liberal com todas as letras e os ignorantes seguem nessa idiotice de chamar o cara de esquerda.  https://t.co/3UFM2bPOZL Irrelevant\n",
      "\n",
      "Pra quem quiser saber desde já os comandos pra jogar durante a live de amanhã, ei-los!  https://t.co/k6LlqAiwZt Irrelevant\n",
      "\n",
      "Poucas horas depois de confirmarem, ele postou:  #SCOUPS: euuuummm essa música é boa  E o Dokyeom respondeu:  #DK: de novo, você está provocando eles (carats) de novo, hyung ㅋㅋ é choi seungcheol de novo 😮‍💨  https://t.co/tRNtaYS5YE Irrelevant\n",
      "\n",
      "Infiltrada BLOCK. Tenho vários seguidores que a seguem  https://t.co/U4CJs47E5e Irrelevant\n",
      "\n",
      "Você é nosso apoiador? Acesse  https://t.co/bwoPBhxKXR Tem vídeo novo para você lá, falando um pouco de como será nossa primeira ação Com um “intruso“ muito especial kkk  Ainda não é apoiador?!  https://t.co/bwoPBhxKXR   Apoie com o quanto puder não precisa de muito para ajudar!  https://t.co/KDzITp9dKd Irrelevant\n",
      "\n",
      "Draft #5/7 in the books. Last 2 drafts tonight then it’s onto money making at seasons end! Draft day is by far the best part of fantasy football imo. Work league just finished up full point PPR &amp; yardage bonuses - what y’all think?! #FantasyFootball 🏈🏆  https://t.co/NTNcPfE5R4 Irrelevant\n",
      "\n",
      "Job Requirements Candidate should possess a minimum of FSLC qualification Must have had 4-7 year experience in driving.  Closing Date 11th September, 2021.  Interested candidates should send CV to: hrlekki@revolutionplusproperty.com  #africanbiohub #careerpath #hiring  https://t.co/K6xim4TILa Irrelevant\n",
      "\n",
      "@Leandro48520232 @Rconstantino Vc retuita paulo pimenta.. um dos comunistas mais sujos desse pais... vc nao quer terceira via.. vc quer esquerda.. e so ver o que vc segue e posta.  https://t.co/SkX2rMnarJ Irrelevant\n",
      "\n",
      "SET A REMINDER✅ BOOKMARK THE DPR WEBSITE✅ WAIT UNTIL FRIDAY AND LET THE GAMES BEGIN💀  MAY THE FORCE BE WITH YOU🖖  https://t.co/cpeqiXnmbN Irrelevant\n",
      "\n",
      "@TerraBrasilnot \"BOLSONARO's threat to DEMOCRACY: \"Fulfill the CONSTITUTION!\"📃🇧🇷  https://t.co/UkHpnrkcXy Relevant (Related)\n",
      "\n",
      "🐳 The Weekend Whales of #hicetnunc 🐳 Sat+Sun 11-12sep  Biggest buyer in value is \"krpdm_hot\"... a new @KRP_DM account? A fan account?  https://t.co/5K0Z4UdzCf Irrelevant\n",
      "\n",
      "@LiberdadeNewman Bolsominion? Eu só falei a verdade que chato!  https://t.co/ubUR2LSIU3 Relevant (Related)\n",
      "\n",
      "@BlogdoNoblat Chapéu de otário é marreta. MBL além de tem sido o palco pra desgraça do país é ter ajudado a eleger  Bolsonaro, continua votando alinhado com ele MESMO MOMENTO.  Isso é palhaçada. Quem vai aí, vai sozinho. Eu não vou. #MBLNao  nem fodendo  https://t.co/6QqJr6hZ0R  https://t.co/eRUhGRnHlG Relevant (Related)\n",
      "\n",
      "Colhendo os bons frutos do nosso presidente.  https://t.co/atHj2JerUJ Relevant (Related)\n",
      "\n",
      "Dos mesmos criadores de: O Bolsonaro é culpado pelos preços altos e não faz nada para impedir que as empresas cobrem caro...  https://t.co/iKdbAi2Ors Relevant (Related)\n",
      "\n",
      "papai mandou isso e mamãe falou que se eu quiser vir embora é só ligar que ela vai de ônibus (com meu dinheiro) me buscar 😭  https://t.co/NdHdg6DFK2 Irrelevant\n",
      "\n",
      "@AlexandrePersJa @RODRIGOPILHA Olha essa q ela mandou ontem… 🤦🏻‍♂️  https://t.co/k36jNyoEG6 Irrelevant\n",
      "\n",
      "Vamos conhecer o inimigo da nação? ✊  #ForaBolsonaro  https://t.co/xyaMfHV0AB Relevant (Related)\n",
      "\n",
      "Bem vindos novo amigos e parceiros, não \"seguidores\" porque não sou líder de coisa alguma! Muito menos lidero o pensamento livre de seu ninguém! #JuntosPeloBrasil  https://t.co/naTytxPC3h Irrelevant\n",
      "\n",
      "@CorreiosBR me da uma ajuda aqui. O pacote ficou mais de uma semana pra chegar de Indaiatuba para Campinas, e quando chegou, teve a entrega cancelada. E agora não atualiza mais. Era sedex. Já fiz uma manifestação mas não consigo acompanhar no site. Que que ta rolando co pacote?  https://t.co/1ffxz5fCRN Irrelevant\n",
      "\n",
      "Engraçado ler essas manchetes.  Parece que os extremos se encontraram! #CiroNasRuas #2OutForaBolsonaro  https://t.co/ohaIpqeilX Relevant (Informative)\n",
      "\n",
      "todo mundo já se perguntou isso tenho certeza 🤨  https://t.co/i61Y5gvULm Irrelevant\n",
      "\n",
      "@Nabuwyd @reformedenzo we stand with joel + ur washed + that clip that he messed is better than anything u ever did bozo + ur good at nothing + u have to like ur own tweet  https://t.co/z32dmUajL4 Irrelevant\n",
      "\n",
      "Very true for this Cancerian man. 7/15  https://t.co/vKTgd4b55i Irrelevant\n",
      "\n",
      "Esse é a questão de eu estar lendo tantos livros sobre gerenciamento de risco, o mercado de futuros é um mercado tentador onde consegue ganhar uma liquidez diaria mto rapida. Mais tudo isso pode ser levado em minutos. Mais de $2.1 Bi foi liquidado na ultima queda  https://t.co/CvktDDB5FO Irrelevant\n",
      "\n",
      "@manobrown EP novo do cara q ensina até hj #ManoaMano  https://t.co/4pbTnfoGoa Irrelevant\n",
      "\n",
      "Baixei o Snap de novo e tem gente que realmente ainda usa kkkkkkk  https://t.co/7DMyliy3v0 Irrelevant\n",
      "\n",
      "@joaovitorjv É, ele nunca foi de esquerda, eu vejo ele inclusive como muito proximo do bolsonaro no sentido de ser anti-política. Entendi agr o que vc quis dizer Mas pra essa eleição de 22 considero por hora mais dificil ainda uma coalizao de esquerda de sucesso  https://t.co/0GkYVzeIHj Irrelevant\n",
      "\n",
      "Pelo Grupo B temos um novo líder, chega mais Novorizontino. O Ituano garantiu sua vaga nesta última semana, agora sobra apenas a vaga do 4º colocado. Mirassol, com a vitória, não pode mais ser alcançado e carimba a sua permanência para a Série C 2022.  https://t.co/EslmdFozmv Irrelevant\n",
      "\n",
      "@o_antagonista Essa afirmação do @RubensNunesMBL não faz sentido quando o próprio @RenanSantosMBL (que apagou tuíte) disse que o boneco levado pelo @VemPraRua_br era desnecessário. Isso pra bom entendedor ½ palavra basta!  https://t.co/mPciCGTOx4 Irrelevant\n",
      "\n",
      "Imagina se a ultradireita internacional não está apostando um monte de fichas no governo do Bozo...  https://t.co/SBJnVUhIQF  https://t.co/fOq8axo6iQ Irrelevant\n",
      "\n",
      "@veramagalhaes @CNNBrasil Certamente vem do eslavo: fé em João “Boss” Dória e fidelidade ao PSDB, no matter what, nem mesmo escrever esses absurdos.  https://t.co/MJBDehCSpj Irrelevant\n",
      "\n",
      "a vacina comunista! o país comunista! a onu comunista! os socialistas coministas sao muito perigosos! coministas socialistas terroristas genocidas! onu + oms = ORGANIZAÇÃO CRIMINOSA  ta dando DOR DE BARRIGA do tanto que eu já ri  https://t.co/pV3S7WlHE6 Relevant (Related)\n",
      "\n",
      "@RomaSiqueira @allanldsantos Se até o marginal da Virginha compreendeu que o bozó arregou, tu ainda quer o que, Zé ruela?  https://t.co/6C6ki0SGUM Relevant (Related)\n",
      "\n",
      "gente que inferno bolsonaro voce prometeu  https://t.co/5Cbr8Rr3v3 Irrelevant\n",
      "\n",
      "O Ministério da Saúde suspendeu a entrega das vacinas por dois dias em função do ato insano, estúpido e irracional do mito com seus asseclas no dia 7 de setembro. Por isso o novo atraso nas vacinações.  E ainda se dizem defensores da vida!😡 Inacreditável o que estamos vivendo!🤦🏻‍♂️  https://t.co/OoczNrpLIC Relevant (Related)\n",
      "\n",
      "@gabimendg @twhozz @penchinaa Espero que de tudo certo. Deus no controle  https://t.co/uHEY2FGDLf Irrelevant\n",
      "\n",
      "Fechado com Bolsonaro mas curte post de esquerdista?!?! Oi?!  https://t.co/3yrqkme3iy Relevant (Related)\n",
      "\n",
      "@Douglas_Dg_30 @RitaFigueira8 @justicasilencio @augustodeAB @JanainaDoBrasil Parece que essa tia acredita também que lula é inocente e que gleici é defensora e amiga dos velhinhos.  https://t.co/Ww7o8Mvznz Irrelevant\n",
      "\n",
      "só beijo na boca de quem é  #ForaBolsonaro  https://t.co/1aSolM2NtR Relevant (Related)\n",
      "\n",
      "De acordo com esse bolsominion bem burro os preços estão altos mas ele não tem medo, e isso faz um total de 0 sentido #ForaBolsonaro #BolsonaroAcabou  https://t.co/4W8ziNgBL3 Relevant (Related)\n",
      "\n",
      "@spohr @Jacque586974 @joicehasselmann Galera respeitem o cara, a Eliane Brum que falou pra ele que o Bozo matou todo mundo. O cara segue e retuita o Duvivier, Joel e Felipe Neto, além de admirar as pernas do Lula. Não esperem muito.  https://t.co/4yagGZ0gvC Irrelevant\n",
      "\n",
      "@atbcons Atenção patriotas 👇👇perfil atacando o Presidente Bolsonaro  https://t.co/FIx7sGAttm Relevant (Related)\n",
      "\n",
      "como fomos disso aqui:     //  a isso aqui: tenso ne..  https://t.co/LM7Ejp1IhH Irrelevant\n",
      "\n",
      "Arregou, mas é estratégia, Bolsonaro leu a arte da guerra  https://t.co/Ht05o9y2t7 Relevant (Related)\n",
      "\n",
      "@DouglasGarcia Como se sente lutando sozinho, traidorzinho? Já naquela thread do Eduardo Bolsonaro você já havia sido derretido! E agora foi contra a nota do presidente! A sua assessoria, ao invés de trabalhar, fica brincando de exposed!  https://t.co/Uaybz5w2VV Irrelevant\n",
      "\n",
      "crlh q sdd de ta assim  https://t.co/OMHGFFtoUq Irrelevant\n",
      "\n",
      "Queria muito conhecer Minas Gerais o foda é que as únicas passagens com preço decente (ta dando 1500 pra 2 pessoas) é só ficando mais de mês, aí eu nao sei se vou ter o notebook e se minha noiva teria como ir comigo (só se ela tivesse um notebook e trabalhasse em uma vaga remota)  https://t.co/gGa3pweMR0 Irrelevant\n",
      "\n",
      "O xornadero que vai pra protesto de Uber sozinho, o articulador, o que tem fãs, o cara que se diz do partido mas não tem nenhuma função lá dentro OU é filiado, recebendo um tapa na cara. Responder não responde pq sabe que o ódio ao PT não o deixa raciocinar. O golpe taí, viu?  https://t.co/a0xMhCHFQM Irrelevant\n",
      "\n",
      "Perdi o sono:  Fiquei comparando os perfis políticos no twitter e instagram, e fiquei surpreso com a quantidade de seguidores que o presidente Jair Bolsonaro tem a mais que os outros candidatos.   Em menos de 2 minutos encontrei cerca de 15 perfis falsos como esses.   Segue:  https://t.co/BYIXnh3nTB Irrelevant\n",
      "\n",
      "Ludwig chat’s take on what sykkuno learned:  https://t.co/ktuw0D4sr2 Irrelevant\n",
      "\n",
      "nunca responderia isso no meu tumblr  https://t.co/XKd5H4bI38 Irrelevant\n",
      "\n",
      "Referência.  Esse é o tuíte.  #forafascistas  #ForaBolsonaro  #  https://t.co/RUI1ZOHuVc Relevant (Related)\n",
      "\n",
      "brinquedinho novo q peguei na @Neshastore com o cupom newnesha, atendimento rápido e mt good!! 🤩  https://t.co/hfDJUECzpF Relevant (Related)\n",
      "\n",
      "Manifestação de Motoristas (Estradas interditadas) 😔  https://t.co/E7Z4xlcxXY Relevant (Related)\n",
      "\n",
      "Agora a Ibovespa também é comunista. Fala aí, gado!  https://t.co/hH8u35PMQ5 Irrelevant\n",
      "\n",
      "@janainalimasp Poderia falar um monte de coisas. Mas, acho que as palavras de um Deputado Federal filiado ao Partido Novo soa melhor neste momento. 😉  https://t.co/zDZnksOKop Irrelevant\n",
      "\n",
      "manos esses foram os resultados pra não falarem que eu roubei tivemos uns picados de personagens que não estavam mas eu não contei  https://t.co/5uIaZYSSzN Irrelevant\n",
      "\n",
      "O liberalismo não tem o mesmo apelo que o fascismo O fascista gosta do liberalismo na essência, mas, prefere seus métodos violentos e de confronto Thatcher corta o leite das crianças e diz que salvará as contas públicas, o fascista apoia e diz - não vou sustentar pais vagabundos!  https://t.co/oRS6exmTlg Irrelevant\n",
      "\n",
      "eu desejo no mínimo uma visita de lula pq aqui somos mundinho PT br demais  https://t.co/lRtheLiGza Relevant (Related)\n",
      "\n",
      "@guilherme_amado \"Acordo\" se for vdd, é grave, como faz acordo com crimes consumados?  O RASTRO de destruição, na economia, saúde, natureza, já foi feito, nota NENHUMA vai trazer as VIDAS ceifadas, as árvores destruídas, a imagem do Brasil arranhada.  FORA bolsonaro  #Dia12ForaBolsonaro  https://t.co/f2SIG5ZQUQ Relevant (Informative)\n",
      "\n",
      "@VuduSupport Dear vudu why haven’t you added American crime stories impeachment of Bill Clinton as iTunes already has should I just take my purchases there?  https://t.co/4IYiBEJF3D Irrelevant\n",
      "\n",
      "#parte 2 nomeando o bagulho da aglomeração  #ForaBolsonaro  #ImpeachmentBolsonaroUrgente  #ForaBolsonaroGenocida  https://t.co/MaqG6OZ134 Relevant (Related)\n",
      "\n",
      "Muitos dos que zombaram estão berrando. #OChoroÉLivre , Lula não! #ChoraQueHidrata  Aliás, é melhor sorrir, porque CHORAR ENTOPE O NARIZ. #BolsonaroOrgulhoDoBrasil  #BolsonaroPresidenteAte2026  #7deSetPelaLiberdade  #HojeVaiSerGigante  https://t.co/M0ydovAXOH Relevant (Informative)\n",
      "\n",
      "@AndradeHedler @soukeynesiano @Ticostacruz que imbecilidade: O MBL disse que não ia em manifestação organizada pelo PT!!! isso não significa que não estejam convidando a esquerda pro protesto....  aliás, o PT é a esquerda inteira?  https://t.co/q35nTtppKs Relevant (Informative)\n",
      "\n",
      "Sim, quem votou pelo impeachment foi o cidadão. É claro que não foi político.🤦‍♂️🤦‍♂️🤦‍♂️  https://t.co/XutavYQCJw Irrelevant\n",
      "\n",
      "Olha aí pessoal!! Fiquem atentos com quem vcs seguem!👇🏼👇🏼  https://t.co/xNZsEbEXUW Irrelevant\n",
      "\n",
      "Fome, desemprego, sem teto, sem direitos trabalhistas e fico muito brava quando eu vejo um comunista se organizando e lutando pelos meus direitos e liberdade 😠😠😠😠😠  https://t.co/cjPGWwWt2q Irrelevant\n",
      "\n",
      "wts // want to sell –in rush  — nct photocard kihno set  ☆ mark 2nd player  ☆ johnny 2nd player ☆ yuta 2nd player ☆ taeil 1st player ☆ taeyong harpot neozone ☆ jungwoo baret neozone ☆ johnny suhum  dm for detail  dom bekasi, bisa event 9.9  https://t.co/eqob6JbnFe Irrelevant\n",
      "\n",
      "@BrunoEnglerDM Esse vai poder se juntar ao MBL nas manifestações democráticas!!!!!  https://t.co/oo2oHszjlZ Relevant (Related)\n",
      "\n",
      "Eu já tô providenciando a camisa do Lula e a bandeira do PT!!!  https://t.co/ClFVXX2519 Relevant (Related)\n",
      "\n",
      "Após o primeiro turno das eleições de 2018 a esquerda elevou o tom nas redes tentando minar o então candidato Bolsonaro. Ontem foi a vez da imprensa, liderados pelos grupos Globo e Folha. Assim como fizeram para colocar medo na população no início da pandemia tentam novamente ⬇️  https://t.co/yrUmTUHhna Relevant (Related)\n",
      "\n",
      "O ano é 2017...Bolsonaro tem razão. @jairbolsonaro Bora batalhar por nossa liberdade.  https://t.co/AmkFTTjF2u Relevant (Related)\n",
      "\n",
      "Frente à MP de Bolsonaro, creators sofrendo bullying e afins, estou atenta ao painel \"Plataformas como agentes de mudança\" que rola no  https://t.co/Jf9ClXIxna dia 13/09. O que TikTok, Insta, Twitter e Youtube fazem pra  criar um ambiente seguro e representativo para creators?  https://t.co/vcuTkZDBZa Relevant (Related)\n",
      "\n",
      "É apenas mais uma notícia mas é deverás importante.  Um alerta para a importância de um rastreio atempado, algo que a pandemia veio também perturbar  Relembrem as vossas mães, filhas e amigas  https://t.co/TSA5CMUG6B Irrelevant\n",
      "\n",
      "Eu diria que sem Bolsonaro o Brasil já era! Vamos nos unir apoiar os caminhoneiros mas com o comando do Presidente sempre!! #FechadoComBolsonaro  https://t.co/H2ZjlAioax Relevant (Informative)\n",
      "\n",
      "e meu cronograma de estudo de seg a sex....... meu deus eu nao tenho tempo de NADA    detalhe: todos esses horários sao fixos, nao tem como eu mudar e encaixar outro horário  https://t.co/VtjxInFbcM Irrelevant\n",
      "\n",
      "@lu_vsdahyun Analfabeta como seu cérebro não se desenvolveu ainda eu vou te explicar, a obcecada veio até o MEU tweet enaltecendo as minhas favs pra falar merda. Mais não espero que você entenda, já que não tem capacidade cognitiva de interpretar uma redação escrita por uma criança de 2 anos  https://t.co/vkgu1LZn5p Irrelevant\n",
      "\n",
      "Chocado que blinding lights no inicio flopou e teve um -41  https://t.co/tDn69cJci4 Irrelevant\n",
      "\n",
      "Pessoas que dão sub com a xsolla, para não cobrar de novo o sub, você tem que retirar a conta aqui, se não vai cobrar de novo, eu não sabia disso  https://t.co/mMpXcBxisg Irrelevant\n",
      "\n",
      "Já temos o primeiro patriota oficialmente corno na manifestação de amanhã🤗  https://t.co/7q6PzDvLxA Irrelevant\n",
      "\n",
      "@roxmo Uma página de fofoca querendo Lula a todo custo kkkkk.  https://t.co/6gzraJWFsR Relevant (Related)\n",
      "\n",
      "#DomingoEmCasaComLula  eu sempre digo e penso é Lula no 1º  vamos nos abastecer intelectualmente lendo o site do PT nos domingos, nas segundas, nas terças, todos os dias. Nós PT estamos no caminho certo esse é o motivo de nossa felicidade e lutar pelo PT é prazeroso. @AdmConexao  https://t.co/Jr1sSr9JSt Relevant (Informative)\n",
      "\n",
      "@Maurcio75961669 Seriam Cavalos de Troia!? Querem estar infiltrados em quem combate o Comunismo? Eles são financiados por capitalistas ‘compadres’ que querem proteçao do Estado totalitário? Sua principal estratégia será armar o impeachment legal do Bolsonaro, pois não terão como fraudar as urnas.  https://t.co/AvLcVKWaAl Irrelevant\n",
      "\n",
      "@servfim Yea you might need to do that again you bozo 😹😹😹  https://t.co/BzqfzSXdin Irrelevant\n",
      "\n",
      "@jairbolsonaro A esquerda não está na manifestação.  https://t.co/9mT5a2OPOK Irrelevant\n",
      "\n",
      "@PervyyNeon Legal fui citado em um print, acho que logo logo será a minha vez de toma um exposed aqui.  https://t.co/aAF3nnLwKC Irrelevant\n",
      "\n",
      "esse ngc novo de resposta automatica vai se fude  Oi amor  https://t.co/Lx9t4GwB9Y Irrelevant\n",
      "\n",
      "Don’t let this halftime show distract you from the fact that Tom Brady is currently leading the nfl in interceptions #Washed #Bozo😹😹😹 #NotThatGuy  https://t.co/XZ7Vi3rvdP Irrelevant\n",
      "\n",
      "“PR Bolsonaro signed today an MP that changes the Marco Civil da Internet, creating restrictions on the Big Techs' arbitrariness and additional protections for the freedom of Brazilians in the networks, in addition to submitting the relationship between users and service provider  https://t.co/hvfhLKv14A Relevant (Related)\n",
      "\n",
      "🐱 I slept and woke up... A surprise gift... ARMYs, is this possible...? Thank you so much and I love you  https://t.co/A80ChIwUyy Irrelevant\n",
      "\n",
      "definição de felicidade é dois dos meus canais favoritos postarem vídeo novo no mesmo dia  https://t.co/Sq0KSvrw1W Irrelevant\n",
      "\n",
      "please, olha meu pai 🗣️🗣️🗣️🗣️  vemos que ele não sabe argumentar a favor do bozo (impossível mesmo), aí ele ataca o pt kkkkkkkkkkk  https://t.co/3nXZSpf1mE Relevant (Related)\n",
      "\n",
      "@filipetrielli @taoquei1 Se for manifestação de DIREITA o número divulgado é dividido por 10 😆😆 e depois corta pela metade … ( que medo de mostrar a verdade né ? )  https://t.co/7SN0gDMxtK Relevant (Related)\n",
      "\n",
      "@QuinntabulousMF yeah I been having that bozo blocked lol  https://t.co/ZYzSue5VwC Irrelevant\n",
      "\n",
      "@AnonymousCrec @anonymousBROF Essa ong precisa de doação de ração faça sua parte #BolsonaroGenorrupto @anonymousBROF  https://t.co/DQ2tT9Owz0 Irrelevant\n",
      "\n",
      "🔰Esse povo viaja muito! 😂😂😂😂😂  #DomingoForaBolsonaro  https://t.co/LGvvhxNS9k Relevant (Informative)\n",
      "\n",
      "Descobri que zoar Bolsominions é bom pro engajamento do Instagram da minha loja, e também é meu esporte favorito! #ForaBolsonaro  https://t.co/NkWMnnoAsK Relevant (Related)\n",
      "\n",
      "tw // ableism  i got permission to post but just a reminder!!  ive seen a lot of people not just on my writers but other accounts do this as well so just be cautious when posting stuff  https://t.co/eWNHGOBsUr Irrelevant\n",
      "\n"
     ]
    }
   ],
   "source": [
    "for _, row in dict_stats[['text','txt_label']].iterrows():\n",
    "    print(row['text'], row['txt_label'])\n",
    "    print()"
   ]
  },
  {
   "cell_type": "code",
   "execution_count": 113,
   "id": "relevant-engineering",
   "metadata": {},
   "outputs": [],
   "source": [
    "dict_com = {}\n",
    "k = 0\n",
    "for i in range(len(communities)):\n",
    "    if (len(communities[i])>0):\n",
    "        dict_com[k] = df1.loc[df1.index[communities[i]]]\n",
    "        k += 1"
   ]
  },
  {
   "cell_type": "code",
   "execution_count": 114,
   "id": "monetary-fisher",
   "metadata": {},
   "outputs": [
    {
     "data": {
      "text/plain": [
       "3783"
      ]
     },
     "execution_count": 114,
     "metadata": {},
     "output_type": "execute_result"
    }
   ],
   "source": [
    "# dict_com[0]\n",
    "len(dict_com)"
   ]
  },
  {
   "cell_type": "code",
   "execution_count": 144,
   "id": "mediterranean-macro",
   "metadata": {
    "scrolled": false
   },
   "outputs": [
    {
     "name": "stdout",
     "output_type": "stream",
     "text": [
      "1\n",
      "E JA SEGUIMOS PRA 2 SESSÃO DE TESTES!! SERA QUE E DOMINAN DE NOVO??\n",
      "Irrelevant\n",
      "=============\n"
     ]
    }
   ],
   "source": [
    "i = 1055\n",
    "print(len(dict_com[i]))\n",
    "for index, row in dict_com[i].iterrows():\n",
    "        print(row['processed_tweet'])\n",
    "#         print(row['tweet_id'])\n",
    "        print(row['txt_label'])\n",
    "        print(\"=============\")"
   ]
  },
  {
   "cell_type": "markdown",
   "id": "descending-settle",
   "metadata": {},
   "source": [
    "### Select samples from the cluster"
   ]
  },
  {
   "cell_type": "code",
   "execution_count": 75,
   "id": "tight-auckland",
   "metadata": {},
   "outputs": [],
   "source": [
    "# from random import sample\n",
    "# dict_com[0].sample(n=10, random_state=2)[['text','txt_label', 'img_label']]"
   ]
  },
  {
   "cell_type": "code",
   "execution_count": 101,
   "id": "failing-current",
   "metadata": {},
   "outputs": [],
   "source": [
    "sorted_id = [communities[0][i]  for i in sorted(range(len(communities[0])), key=lambda x: len(set(communities[0]).intersection(communities.graph.neighborhood(communities[0][x]))), reverse=True)]"
   ]
  },
  {
   "cell_type": "code",
   "execution_count": 87,
   "id": "complicated-background",
   "metadata": {},
   "outputs": [],
   "source": [
    "k=1\n",
    "sorted_id = [communities[k][i]  for i in sorted(range(len(communities[k])), key=lambda x: len(set(communities[k]).intersection(communities.graph.neighborhood(communities[k][x]))), reverse=True)]"
   ]
  },
  {
   "cell_type": "code",
   "execution_count": 102,
   "id": "allied-glossary",
   "metadata": {},
   "outputs": [],
   "source": [
    "df_sample = df1.iloc[sorted_id[:10]]\n",
    "#print(df_sample.txt_label.value_counts()['Relevant (Informative)'])"
   ]
  },
  {
   "cell_type": "code",
   "execution_count": 103,
   "id": "fleet-aquarium",
   "metadata": {},
   "outputs": [],
   "source": [
    "def tweet_label(tweet):\n",
    "    \"\"\"\n",
    "    Get a label for the entire tweet based on the label\n",
    "    of each modality\n",
    "    \n",
    "    Return:\n",
    "        True -- tweet is relevant\n",
    "        False -- tweet is irrelvant\n",
    "    \"\"\"\n",
    "    img_label = tweet['img_label']\n",
    "    txt_label = tweet['txt_label']\n",
    "    \n",
    "    # case (Informative, Informative)\n",
    "    #      (Related, Informative)\n",
    "    #      (Irrelavant, Informative)\n",
    "    #      (Not Sure, Informative)\n",
    "    if 'Informative' in img_label or 'Informative' in txt_label:\n",
    "        return True\n",
    "    \n",
    "    # case (Irrelevant, Irrelevant)\n",
    "    #      (Related, Irrelevant)\n",
    "    #      (Not Sure, Irrelevant)\n",
    "    if 'Irrelevant' in img_label or 'Irrelevant' in txt_label:\n",
    "        return False\n",
    "    # case (not sure, not sure)\n",
    "    if 'Not' in img_label and 'Not' in txt_label:\n",
    "        return False\n",
    "    \n",
    "    # Case ('not sure', related) or (related, related)\n",
    "    return True\n",
    "    "
   ]
  },
  {
   "cell_type": "code",
   "execution_count": 106,
   "id": "directed-evanescence",
   "metadata": {},
   "outputs": [
    {
     "name": "stdout",
     "output_type": "stream",
     "text": [
      "Irrelevant\n"
     ]
    }
   ],
   "source": [
    "# Check the label of a community\n",
    "community_label = sum( tweet_label(tweet) for _, tweet in df_sample.iterrows())\n",
    "if community_label >= 7:\n",
    "    print('Relevant')\n",
    "elif community_label <= 3:\n",
    "    print('Irrelevant')\n",
    "else:\n",
    "    print('Not Sure')\n",
    "    "
   ]
  },
  {
   "cell_type": "code",
   "execution_count": 105,
   "id": "indonesian-lender",
   "metadata": {},
   "outputs": [
    {
     "data": {
      "text/html": [
       "<div>\n",
       "<style scoped>\n",
       "    .dataframe tbody tr th:only-of-type {\n",
       "        vertical-align: middle;\n",
       "    }\n",
       "\n",
       "    .dataframe tbody tr th {\n",
       "        vertical-align: top;\n",
       "    }\n",
       "\n",
       "    .dataframe thead th {\n",
       "        text-align: right;\n",
       "    }\n",
       "</style>\n",
       "<table border=\"1\" class=\"dataframe\">\n",
       "  <thead>\n",
       "    <tr style=\"text-align: right;\">\n",
       "      <th></th>\n",
       "      <th>tweet_id</th>\n",
       "      <th>img_label</th>\n",
       "      <th>txt_label</th>\n",
       "      <th>work_time</th>\n",
       "      <th>orig_path</th>\n",
       "      <th>text</th>\n",
       "      <th>img</th>\n",
       "      <th>processed_tweet</th>\n",
       "      <th>tweet_embeddings</th>\n",
       "      <th>img_embeddings</th>\n",
       "    </tr>\n",
       "  </thead>\n",
       "  <tbody>\n",
       "    <tr>\n",
       "      <th>2190</th>\n",
       "      <td>1435393267781222400</td>\n",
       "      <td>Irrelevant</td>\n",
       "      <td>Irrelevant</td>\n",
       "      <td>16.572029</td>\n",
       "      <td>social-data/media_8_11/pt/1435393267781222400/...</td>\n",
       "      <td>@veramagalhaes @CNNBrasil Certamente vem do es...</td>\n",
       "      <td>annotated-data/1435393267781222400.jpg</td>\n",
       "      <td>Certamente vem do eslavo: fé em João “ Boss” D...</td>\n",
       "      <td>[-0.036999333649873734, 0.01999914087355137, -...</td>\n",
       "      <td>[0.2681526839733124, -0.0437333919107914, 0.68...</td>\n",
       "    </tr>\n",
       "    <tr>\n",
       "      <th>2109</th>\n",
       "      <td>1437196991516356608</td>\n",
       "      <td>Irrelevant</td>\n",
       "      <td>Irrelevant</td>\n",
       "      <td>24.353923</td>\n",
       "      <td>social-data/media_12/pt/1437196991516356611/im...</td>\n",
       "      <td>@o_antagonista Essa afirmação do @RubensNunesM...</td>\n",
       "      <td>annotated-data/1437196991516356611.jpg</td>\n",
       "      <td>Essa afirmação do não faz sentido quando o pró...</td>\n",
       "      <td>[0.18441364169120789, 0.06504547595977783, -0....</td>\n",
       "      <td>[0.16080927848815918, -0.0653161108493805, 0.7...</td>\n",
       "    </tr>\n",
       "    <tr>\n",
       "      <th>1684</th>\n",
       "      <td>1436845963440795648</td>\n",
       "      <td>Not sure</td>\n",
       "      <td>Irrelevant</td>\n",
       "      <td>27.804484</td>\n",
       "      <td>social-data/media_8_11/pt/1436845963440795649/...</td>\n",
       "      <td>@AlexandrePersJa @RODRIGOPILHA Olha essa q ela...</td>\n",
       "      <td>annotated-data/1436845963440795649.jpg</td>\n",
       "      <td>Olha essa q ela mandou ontem…</td>\n",
       "      <td>[0.0355231910943985, 0.06988520175218582, -0.0...</td>\n",
       "      <td>[0.5002314448356628, -0.06576941907405853, 0.6...</td>\n",
       "    </tr>\n",
       "    <tr>\n",
       "      <th>3133</th>\n",
       "      <td>1436021525010866176</td>\n",
       "      <td>Irrelevant</td>\n",
       "      <td>Relevant (Related)</td>\n",
       "      <td>20.150733</td>\n",
       "      <td>social-data/media_8_11/pt/1436021525010866180/...</td>\n",
       "      <td>@BrunoEnglerDM Esse vai poder se juntar ao MBL...</td>\n",
       "      <td>annotated-data/1436021525010866180.jpg</td>\n",
       "      <td>Esse vai poder se juntar ao MBL nas manifestaç...</td>\n",
       "      <td>[-0.11159660667181015, 0.25109413266181946, -0...</td>\n",
       "      <td>[0.026730267331004143, -0.19256199896335602, 0...</td>\n",
       "    </tr>\n",
       "    <tr>\n",
       "      <th>3663</th>\n",
       "      <td>1435392415272144896</td>\n",
       "      <td>Irrelevant</td>\n",
       "      <td>Irrelevant</td>\n",
       "      <td>25.021914</td>\n",
       "      <td>social-data/media_07/en/1435392415272144902/im...</td>\n",
       "      <td>🐱 I slept and woke up... A surprise gift... AR...</td>\n",
       "      <td>annotated-data/1435392415272144902.jpg</td>\n",
       "      <td>I slept and woke up A surprise gift ARM Ys, is...</td>\n",
       "      <td>[0.14594699442386627, -0.07955707609653473, -0...</td>\n",
       "      <td>[-0.08411477506160736, -0.21365898847579956, 0...</td>\n",
       "    </tr>\n",
       "    <tr>\n",
       "      <th>1239</th>\n",
       "      <td>1435163534460133376</td>\n",
       "      <td>Irrelevant</td>\n",
       "      <td>Irrelevant</td>\n",
       "      <td>27.191532</td>\n",
       "      <td>social-data/media_07/en/1435163534460133376/im...</td>\n",
       "      <td>Job Requirements Candidate should possess a mi...</td>\n",
       "      <td>annotated-data/1435163534460133376.jpg</td>\n",
       "      <td>Job Requirements Candidate should possess a mi...</td>\n",
       "      <td>[-0.16611669957637787, 0.13505993783473969, -0...</td>\n",
       "      <td>[0.09707644581794739, -0.1589931845664978, 0.5...</td>\n",
       "    </tr>\n",
       "    <tr>\n",
       "      <th>1632</th>\n",
       "      <td>1435021379456442368</td>\n",
       "      <td>Irrelevant</td>\n",
       "      <td>Relevant (Related)</td>\n",
       "      <td>49.002196</td>\n",
       "      <td>social-data/media_07/pt/1435021379456442372/im...</td>\n",
       "      <td>Dos mesmos criadores de: O Bolsonaro é culpado...</td>\n",
       "      <td>annotated-data/1435021379456442372.png</td>\n",
       "      <td>Dos mesmos criadores de: O Bolsonaro é culpado...</td>\n",
       "      <td>[-0.07757981866598129, 0.17918477952480316, -0...</td>\n",
       "      <td>[0.3525865375995636, -0.14001533389091492, 0.2...</td>\n",
       "    </tr>\n",
       "    <tr>\n",
       "      <th>133</th>\n",
       "      <td>1435027296658903040</td>\n",
       "      <td>Irrelevant</td>\n",
       "      <td>Irrelevant</td>\n",
       "      <td>14.927882</td>\n",
       "      <td>social-data/media_07/pt/1435027296658903044/im...</td>\n",
       "      <td>Esquerda contra a liberdade de expressão ➡️➡️➡...</td>\n",
       "      <td>annotated-data/1435027296658903044.jpg</td>\n",
       "      <td>Esquerda contra a liberdade de expressão</td>\n",
       "      <td>[-0.089701808989048, 0.011999373324215412, -0....</td>\n",
       "      <td>[0.3858660161495209, -0.026997480541467667, 0....</td>\n",
       "    </tr>\n",
       "    <tr>\n",
       "      <th>253</th>\n",
       "      <td>1435790950975086592</td>\n",
       "      <td>Irrelevant</td>\n",
       "      <td>Relevant (Related)</td>\n",
       "      <td>137.676435</td>\n",
       "      <td>social-data/media_8_11/pt/1435790950975086595/...</td>\n",
       "      <td>@tuliovsb @YcaroFOliveira @heloakamulher @teso...</td>\n",
       "      <td>annotated-data/1435790950975086595.png</td>\n",
       "      <td>Vc está negando um fato. O MBL e o VPR são opo...</td>\n",
       "      <td>[-0.013382195495069027, 0.054432038217782974, ...</td>\n",
       "      <td>[0.3615988790988922, 0.02278093807399273, 0.56...</td>\n",
       "    </tr>\n",
       "    <tr>\n",
       "      <th>2657</th>\n",
       "      <td>1444440472303423488</td>\n",
       "      <td>Irrelevant</td>\n",
       "      <td>Irrelevant</td>\n",
       "      <td>18.805367</td>\n",
       "      <td>social-data/media_2oct/pt/1444440472303423488/...</td>\n",
       "      <td>nunca responderia isso no meu tumblr  https://...</td>\n",
       "      <td>annotated-data/1444440472303423488.jpg</td>\n",
       "      <td>nunca responderia isso no meu tumblr</td>\n",
       "      <td>[0.2585555911064148, 0.20835740864276886, -0.0...</td>\n",
       "      <td>[-0.021632257848978043, -0.180050790309906, 0....</td>\n",
       "    </tr>\n",
       "  </tbody>\n",
       "</table>\n",
       "</div>"
      ],
      "text/plain": [
       "                 tweet_id   img_label           txt_label   work_time  \\\n",
       "2190  1435393267781222400  Irrelevant          Irrelevant   16.572029   \n",
       "2109  1437196991516356608  Irrelevant          Irrelevant   24.353923   \n",
       "1684  1436845963440795648    Not sure          Irrelevant   27.804484   \n",
       "3133  1436021525010866176  Irrelevant  Relevant (Related)   20.150733   \n",
       "3663  1435392415272144896  Irrelevant          Irrelevant   25.021914   \n",
       "1239  1435163534460133376  Irrelevant          Irrelevant   27.191532   \n",
       "1632  1435021379456442368  Irrelevant  Relevant (Related)   49.002196   \n",
       "133   1435027296658903040  Irrelevant          Irrelevant   14.927882   \n",
       "253   1435790950975086592  Irrelevant  Relevant (Related)  137.676435   \n",
       "2657  1444440472303423488  Irrelevant          Irrelevant   18.805367   \n",
       "\n",
       "                                              orig_path  \\\n",
       "2190  social-data/media_8_11/pt/1435393267781222400/...   \n",
       "2109  social-data/media_12/pt/1437196991516356611/im...   \n",
       "1684  social-data/media_8_11/pt/1436845963440795649/...   \n",
       "3133  social-data/media_8_11/pt/1436021525010866180/...   \n",
       "3663  social-data/media_07/en/1435392415272144902/im...   \n",
       "1239  social-data/media_07/en/1435163534460133376/im...   \n",
       "1632  social-data/media_07/pt/1435021379456442372/im...   \n",
       "133   social-data/media_07/pt/1435027296658903044/im...   \n",
       "253   social-data/media_8_11/pt/1435790950975086595/...   \n",
       "2657  social-data/media_2oct/pt/1444440472303423488/...   \n",
       "\n",
       "                                                   text  \\\n",
       "2190  @veramagalhaes @CNNBrasil Certamente vem do es...   \n",
       "2109  @o_antagonista Essa afirmação do @RubensNunesM...   \n",
       "1684  @AlexandrePersJa @RODRIGOPILHA Olha essa q ela...   \n",
       "3133  @BrunoEnglerDM Esse vai poder se juntar ao MBL...   \n",
       "3663  🐱 I slept and woke up... A surprise gift... AR...   \n",
       "1239  Job Requirements Candidate should possess a mi...   \n",
       "1632  Dos mesmos criadores de: O Bolsonaro é culpado...   \n",
       "133   Esquerda contra a liberdade de expressão ➡️➡️➡...   \n",
       "253   @tuliovsb @YcaroFOliveira @heloakamulher @teso...   \n",
       "2657  nunca responderia isso no meu tumblr  https://...   \n",
       "\n",
       "                                         img  \\\n",
       "2190  annotated-data/1435393267781222400.jpg   \n",
       "2109  annotated-data/1437196991516356611.jpg   \n",
       "1684  annotated-data/1436845963440795649.jpg   \n",
       "3133  annotated-data/1436021525010866180.jpg   \n",
       "3663  annotated-data/1435392415272144902.jpg   \n",
       "1239  annotated-data/1435163534460133376.jpg   \n",
       "1632  annotated-data/1435021379456442372.png   \n",
       "133   annotated-data/1435027296658903044.jpg   \n",
       "253   annotated-data/1435790950975086595.png   \n",
       "2657  annotated-data/1444440472303423488.jpg   \n",
       "\n",
       "                                        processed_tweet  \\\n",
       "2190  Certamente vem do eslavo: fé em João “ Boss” D...   \n",
       "2109  Essa afirmação do não faz sentido quando o pró...   \n",
       "1684                      Olha essa q ela mandou ontem…   \n",
       "3133  Esse vai poder se juntar ao MBL nas manifestaç...   \n",
       "3663  I slept and woke up A surprise gift ARM Ys, is...   \n",
       "1239  Job Requirements Candidate should possess a mi...   \n",
       "1632  Dos mesmos criadores de: O Bolsonaro é culpado...   \n",
       "133            Esquerda contra a liberdade de expressão   \n",
       "253   Vc está negando um fato. O MBL e o VPR são opo...   \n",
       "2657               nunca responderia isso no meu tumblr   \n",
       "\n",
       "                                       tweet_embeddings  \\\n",
       "2190  [-0.036999333649873734, 0.01999914087355137, -...   \n",
       "2109  [0.18441364169120789, 0.06504547595977783, -0....   \n",
       "1684  [0.0355231910943985, 0.06988520175218582, -0.0...   \n",
       "3133  [-0.11159660667181015, 0.25109413266181946, -0...   \n",
       "3663  [0.14594699442386627, -0.07955707609653473, -0...   \n",
       "1239  [-0.16611669957637787, 0.13505993783473969, -0...   \n",
       "1632  [-0.07757981866598129, 0.17918477952480316, -0...   \n",
       "133   [-0.089701808989048, 0.011999373324215412, -0....   \n",
       "253   [-0.013382195495069027, 0.054432038217782974, ...   \n",
       "2657  [0.2585555911064148, 0.20835740864276886, -0.0...   \n",
       "\n",
       "                                         img_embeddings  \n",
       "2190  [0.2681526839733124, -0.0437333919107914, 0.68...  \n",
       "2109  [0.16080927848815918, -0.0653161108493805, 0.7...  \n",
       "1684  [0.5002314448356628, -0.06576941907405853, 0.6...  \n",
       "3133  [0.026730267331004143, -0.19256199896335602, 0...  \n",
       "3663  [-0.08411477506160736, -0.21365898847579956, 0...  \n",
       "1239  [0.09707644581794739, -0.1589931845664978, 0.5...  \n",
       "1632  [0.3525865375995636, -0.14001533389091492, 0.2...  \n",
       "133   [0.3858660161495209, -0.026997480541467667, 0....  \n",
       "253   [0.3615988790988922, 0.02278093807399273, 0.56...  \n",
       "2657  [-0.021632257848978043, -0.180050790309906, 0....  "
      ]
     },
     "execution_count": 105,
     "metadata": {},
     "output_type": "execute_result"
    }
   ],
   "source": [
    "df_sample"
   ]
  },
  {
   "cell_type": "code",
   "execution_count": 91,
   "id": "metric-landscape",
   "metadata": {},
   "outputs": [
    {
     "data": {
      "image/png": "[encoded data removed]",
      "text/plain": [
       "<PIL.JpegImagePlugin.JpegImageFile image mode=RGB size=244x244 at 0x7F96C849C0A0>"
      ]
     },
     "execution_count": 91,
     "metadata": {},
     "output_type": "execute_result"
    }
   ],
   "source": [
    "Image.open('annotated-data/1435739987492982789.jpg')"
   ]
  },
  {
   "cell_type": "code",
   "execution_count": null,
   "id": "smaller-fault",
   "metadata": {},
   "outputs": [],
   "source": [
    "def label_propagation():\n",
    "    "
   ]
  },
  {
   "cell_type": "code",
   "execution_count": null,
   "id": "trained-nation",
   "metadata": {},
   "outputs": [],
   "source": []
  }
 ],
 "metadata": {
  "kernelspec": {
   "display_name": "russiawar",
   "language": "python",
   "name": "russiawar"
  },
  "language_info": {
   "codemirror_mode": {
    "name": "ipython",
    "version": 3
   },
   "file_extension": ".py",
   "mimetype": "text/x-python",
   "name": "python",
   "nbconvert_exporter": "python",
   "pygments_lexer": "ipython3",
   "version": "3.8.12"
  }
 },
 "nbformat": 4,
 "nbformat_minor": 5
}
